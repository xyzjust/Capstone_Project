{
 "cells": [
  {
   "cell_type": "markdown",
   "metadata": {},
   "source": [
    "### Automatic Trading Bot"
   ]
  },
  {
   "cell_type": "markdown",
   "metadata": {},
   "source": [
    "### Import"
   ]
  },
  {
   "cell_type": "code",
   "execution_count": 1,
   "metadata": {},
   "outputs": [],
   "source": [
    "import pandas as pd\n",
    "import numpy as np\n",
    "\n",
    "import re\n",
    "\n",
    "import matplotlib\n",
    "import matplotlib.pyplot as plt\n",
    "\n",
    "from datetime import datetime\n",
    "from difflib import get_close_matches\n",
    "\n",
    "from sklearn.metrics import confusion_matrix, plot_confusion_matrix\n",
    "from sklearn.ensemble import RandomForestClassifier\n",
    "from sklearn.multioutput import MultiOutputClassifier\n",
    "\n",
    "from sklearn.model_selection import train_test_split\n",
    "from sklearn.pipeline import Pipeline, FeatureUnion\n",
    "from sklearn.base import BaseEstimator, TransformerMixin\n",
    "from sklearn.feature_extraction.text import CountVectorizer, TfidfTransformer\n",
    "\n",
    "from sklearn.naive_bayes import MultinomialNB\n",
    "\n",
    "\n",
    "from sklearn.metrics import accuracy_score\n",
    "\n",
    "from sklearn.pipeline import Pipeline\n",
    "from sklearn.model_selection import GridSearchCV\n",
    "from sklearn import svm\n",
    "\n",
    "from sklearn.metrics import f1_score\n",
    "\n",
    "from xgboost import XGBClassifier, XGBRegressor, plot_importance\n",
    "\n",
    "from sklearn.utils import shuffle"
   ]
  },
  {
   "cell_type": "markdown",
   "metadata": {},
   "source": [
    "\n",
    "\n"
   ]
  },
  {
   "cell_type": "markdown",
   "metadata": {},
   "source": [
    "### Class and Functions"
   ]
  },
  {
   "cell_type": "code",
   "execution_count": 2,
   "metadata": {},
   "outputs": [],
   "source": [
    "class DecisionMaking:\n",
    "    \"\"\"\n",
    "    A class that takes pre-trained models and produce the next predicted values\n",
    "    \n",
    "    INPUT:\n",
    "    columns_to_norm : a list of columns to be normalised by base\n",
    "    base : the base column to normalise others\n",
    "    list_to_add_unit_hour : list of rolling averages to add in the unit of hour, e.g.\n",
    "                                list_to_add_unit_hour = [1, 2, 4] , will produce RAs of\n",
    "                                1H, 2H, 4H (window calculated by dividing by the index_unit)\n",
    "\n",
    "    index_unit : unit of index (whatever was used in the grouper), e.g. '15min' (takes minutes)\n",
    "    model_avg : machine learning model for predicting the average\n",
    "    model_high : machine learning model for predicting the high price\n",
    "    model_low : machine learning model for predicting the low price\n",
    "\n",
    "    \"\"\"\n",
    "    \n",
    "    def __init__(self, columns_to_norm, base, list_to_add_unit_hour, index_unit, model_avg, model_high, model_low):\n",
    "        \n",
    "        self.columns_to_norm = columns_to_norm\n",
    "        self.base = base\n",
    "        self.list_to_add_unit_hour = list_to_add_unit_hour\n",
    "        self.index_unit = index_unit\n",
    "        \n",
    "        self.model_avg  = model_avg\n",
    "        self.model_high = model_high\n",
    "        self.model_low  = model_low\n",
    "        \n",
    "        assert base not in columns_to_norm, \"base should not be in the list of columns, as it will be dividing by 0\"\n",
    "    \n",
    "    def get_raw_data(self, df):\n",
    "        \"\"\"\n",
    "        raw 1 minute df\n",
    "        \"\"\"\n",
    "        assert df.index.dtype == '<M8[ns]', \"Index should be time\"\n",
    "        self.raw_1min_df = df.sort_index(ascending=True).copy(deep=True)\n",
    "        \n",
    "        return None\n",
    "    \n",
    "    def window_groupby(self, freq, agg_grouping, return_results=False):\n",
    "        \n",
    "        \"\"\"\n",
    "        return_results to see the table returned, otherwise, save at: self.df_windowed\n",
    "        \"\"\"\n",
    "        \n",
    "        df=self.raw_1min_df.copy(deep=True)\n",
    "        grouper_key = self.raw_1min_df.index.name\n",
    "        assert grouper_key != None, \"no grouper key\"\n",
    "        \n",
    "        df_temp = df.reset_index().groupby(pd.Grouper(key=grouper_key, freq=freq)).agg(agg_grouping)\n",
    "        if 'open_time' in agg_grouping.keys():\n",
    "            df_temp.columns = [open_time_refine(col) for col in df_temp.columns]\n",
    "\n",
    "        df_temp['avg'] = df_temp['quote_asset_volume']/df_temp['volume']\n",
    "        df_temp['avg'] = df_temp['avg'].fillna(method='ffill')  ## when volume is 0\n",
    "        \n",
    "        if return_results:\n",
    "            return df_temp\n",
    "            \n",
    "        else:\n",
    "            self.df_windowed = df_temp.copy(deep=True)\n",
    "            return None\n",
    "\n",
    "\n",
    "    \n",
    "    def add_rolling_averges(self, return_results=False):\n",
    "        \"\"\"\n",
    "        INPUT:\n",
    "        return_results - boolean, defult False\n",
    "        \n",
    "        OUTPUT:\n",
    "        (if return_results = True), dataframe with added rolling averages\n",
    "        (else, save at self.df_wind_ra)\n",
    "        \"\"\"\n",
    "\n",
    "        df_temp = self.df_windowed.copy(deep=True)\n",
    "\n",
    "        rows = float(self.index_unit.replace('min',''))/60\n",
    "\n",
    "        for ra in self.list_to_add_unit_hour:\n",
    "\n",
    "            df_temp['ra_{x}H'.format(x=ra)] = df_temp['avg'].rolling(window=int(ra/rows)).mean()\n",
    "\n",
    "        if return_results:\n",
    "            print(\".dropna(axis=0) not applied here\")\n",
    "            return df_temp\n",
    "            \n",
    "        else:\n",
    "            self.df_wind_ra = df_temp.dropna(axis=0).copy(deep=True)\n",
    "            return None\n",
    "\n",
    "\n",
    "    \n",
    "    def normalising_data(self, return_results=False):\n",
    "        \"\"\"\n",
    "        INPUT:\n",
    "        return_results - boolean, defult False\n",
    "\n",
    "        OUTPUT:\n",
    "        (if return_results = True), normalised dataframe\n",
    "        (else, save at self.df_normalised_input)\n",
    "        \"\"\"\n",
    "        \n",
    "        df_temp = self.df_wind_ra.copy(deep=True)\n",
    "\n",
    "        for col in self.columns_to_norm:\n",
    "            df_temp[col] = 100 * ((df_temp[col].astype(np.float)/df_temp[self.base]) - 1)\n",
    "\n",
    "        if return_results:\n",
    "            return df_temp\n",
    "            \n",
    "        else:\n",
    "            self.df_normalised_input = df_temp.copy(deep=True)\n",
    "            return None\n",
    "        \n",
    "    def _return_predicted_vales(self, pred, base_value):\n",
    "        final_value = (1.0 + pred/100) * base_value\n",
    "        return final_value\n",
    "    \n",
    "    def get_predictions(self):\n",
    "        \"\"\"\n",
    "        Return\n",
    "        predicted: average, low, and high from the models\n",
    "        \"\"\"\n",
    "        y_pred_avg_decision = self.model_avg.predict(self.df_normalised_input[self.columns_to_norm].values)\n",
    "        y_pred_low_decision = self.model_low.predict(self.df_normalised_input[self.columns_to_norm].values)\n",
    "        y_pred_high_decision = self.model_high.predict(self.df_normalised_input[self.columns_to_norm].values)\n",
    "\n",
    "        y_pred_unscaled_avg = self._return_predicted_vales(y_pred_avg_decision[0], self.df_normalised_input[self.base].values[0])\n",
    "        y_pred_unscaled_low = self._return_predicted_vales(y_pred_low_decision[0], self.df_normalised_input[self.base].values[0])\n",
    "        y_pred_unscaled_high = self._return_predicted_vales(y_pred_high_decision[0], self.df_normalised_input[self.base].values[0])\n",
    "            \n",
    "        return {'pred_avg':y_pred_unscaled_avg,\n",
    "                'pred_low':y_pred_unscaled_low,\n",
    "                'pred_high':y_pred_unscaled_high}"
   ]
  },
  {
   "cell_type": "code",
   "execution_count": 3,
   "metadata": {},
   "outputs": [],
   "source": [
    "class MrMarket:\n",
    "    \"\"\"\n",
    "    A class that mimics real exchanges.\n",
    "    \n",
    "    INPUT:\n",
    "    usd - usd values (i.e. starting capital)\n",
    "    coin - coin values (i.e. number of crypto)\n",
    "    last_event - last event name\n",
    "    next_event - next event name\n",
    "    taker_fee - cost of exceuting trades (which varies from exchange to exchange)\n",
    "    \"\"\"\n",
    "    \n",
    "    \n",
    "    def __init__(self, usd, coin, last_event, next_event, taker_fee):\n",
    "        \n",
    "        self.usd_wallet = usd\n",
    "        self.coin_wallet = coin\n",
    "        self._LastEvent_ = last_event\n",
    "        self._NextEvent_ = next_event\n",
    "        self.buy_position = None\n",
    "        self.sell_position = None\n",
    "        self.current_low = None\n",
    "        self.current_high = None\n",
    "        \n",
    "        self.taker_fee = taker_fee\n",
    "        \n",
    "        self.history_log = [{\"time_of_event\" : datetime.now(),  ## if back testing, now() shoud be the max time \n",
    "                              \"event_name\"   : self._LastEvent_,\n",
    "                              \"usd_wallet\"   : self.usd_wallet, \n",
    "                              \"coin_wallet\"  : self.coin_wallet,\n",
    "                              \"next_action\"  : self._NextEvent_,\n",
    "                              \"pred_low\"     : self.buy_position,\n",
    "                              \"pred_high\"    : self.sell_position,\n",
    "                              \"true_low\"     : self.current_low,\n",
    "                              \"true_high\"    : self.current_high\n",
    "                            }]\n",
    "        \n",
    "        print(\"initialisation\")\n",
    "        display(pd.DataFrame(self.history_log))\n",
    "        \n",
    "        return None \n",
    "    \n",
    "    \n",
    "    \n",
    "    def _event_log(self, event):\n",
    "        \"\"\"\n",
    "        logs the event\n",
    "        \"\"\"\n",
    "        \n",
    "        self.history_log.append({\"time_of_event\" : self.time,  ## if back testing, now() shoud be the max time \n",
    "                                  \"event_name\"   :  event['event_name'],\n",
    "                                  \"usd_wallet\"    : self.usd_wallet, \n",
    "                                  \"coin_wallet\"   : self.coin_wallet,\n",
    "                                  \"next_action\"   : self._NextEvent_,\n",
    "                                  \"pred_low\"     : self.buy_position,\n",
    "                                  \"pred_high\"    : self.sell_position,\n",
    "                                  \"true_low\"     : self.current_low,\n",
    "                                  \"true_high\"    : self.current_high,\n",
    "                                  \"position_opened_at\" : self.position_opened_at\n",
    "                                        })\n",
    "\n",
    "        return \"Appened to history_log\"\n",
    "    \n",
    "    def _CheckOrder_(self):\n",
    "        \"\"\"\n",
    "        returns if an open order is there to be filled; also, what is the next event\n",
    "        \"\"\"\n",
    "        return self._WaitingToFillOrder_, self._NextEvent_\n",
    "    \n",
    "    def data(self, row):\n",
    "        \"\"\"\n",
    "        INPUT:\n",
    "        row - a row of data which has the\n",
    "              low, high, open and close price at a certain time (row.name)\n",
    "        \n",
    "        \"\"\"\n",
    "        self.current_low = row['low']\n",
    "        self.current_high = row['high']\n",
    "        self.current_open = row['open']\n",
    "        self.current_close = row['close']\n",
    "        self.time = row.name ## of that minute\n",
    "        \n",
    "    \n",
    "    def open_buy_position(self, buy_price_set, sell_price_set, data_at_time):\n",
    "        \"\"\"\n",
    "        Opens a buy position at said price, also stores a sell price which \n",
    "        will be used when the buy price order goes through\n",
    "        \n",
    "        INPUT:\n",
    "        buy_price_set - buy price\n",
    "        sell_price_set - sell price\n",
    "        data_at_time - time of the event\n",
    "        \"\"\"\n",
    "        self.buy_position = buy_price_set\n",
    "        self.sell_position = sell_price_set\n",
    "        \n",
    "        self._LastEvent_ = \"open_buy_position\"\n",
    "        self._NextEvent_ = \"close_buy_position\"\n",
    "        \n",
    "        self.position_opened_at = {'open_buy': data_at_time.name, 'open_sell': None}\n",
    "            \n",
    "        self.history_log.append({\"time_of_event\" : data_at_time.name,  ## if back testing, now() shoud be the max time \n",
    "                                  \"event_name\"    : self._LastEvent_,\n",
    "                                  \"usd_wallet\"    : self.usd_wallet, \n",
    "                                  \"coin_wallet\"   : self.coin_wallet,\n",
    "                                  \"next_action\"   : self._NextEvent_,\n",
    "                                  \"pred_low\"     : buy_price_set,\n",
    "                                  \"pred_high\"    : sell_price_set,\n",
    "                                  \"true_low\"     : data_at_time['low'],\n",
    "                                  \"true_high\"    : data_at_time['high'],\n",
    "                                  \"position_opened_at\" : self.position_opened_at\n",
    "                })\n",
    "        \n",
    "\n",
    "        self._WaitingToFillOrder_ = True\n",
    "    \n",
    "        return data_at_time.name\n",
    "    \n",
    "    def check_status(self, input_event):\n",
    "        \"\"\"\n",
    "        check if an order should have gone through\n",
    "        \"\"\"\n",
    "        \n",
    "        assert self._NextEvent_ == input_event, \"self event: {_NextEvent_} and input: {input_event} should be the same\"\n",
    "        \n",
    "        if self._NextEvent_ == 'close_buy_position':\n",
    "#             print(\"try to close buy position!!\", self.time)\n",
    "            if self.current_low < self.buy_position:\n",
    "                \n",
    "                \"Buy executed, sell position opened\"\n",
    "                self.coin_wallet = self.coin_wallet + float(self.usd_wallet / self.buy_position) * (100 - self.taker_fee)/100\n",
    "                self.usd_wallet = self.usd_wallet - self.usd_wallet\n",
    "                self._NextEvent_ = \"close_sell_position\"\n",
    "                \n",
    "                self.position_opened_at = {'open_buy': None, 'open_sell': self.time}\n",
    "                \n",
    "                self._event_log({\"event_name\": \"close_buy_position, (auto: opened sell position)\"})\n",
    "                \n",
    "                return \"Executed Buy\"\n",
    "            \n",
    "            else:\n",
    "                \n",
    "                if (self.time - self.position_opened_at['open_buy']).total_seconds() >= 30*60:\n",
    "                    assert pd.notnull(self.position_opened_at['open_buy']), \"should have a timestampe\"\n",
    "                    \n",
    "                    \"Cancel trade, price expired\"\n",
    "                    \n",
    "                    verdict = \"Buy order expired, Reset\"\n",
    "                    \n",
    "\n",
    "                    self.position_opened_at = None\n",
    "                    self._WaitingToFillOrder_ = False\n",
    "                    \n",
    "                    self._NextEvent_ = \"open_buy_position\"\n",
    "                    \n",
    "                    self._event_log({\"event_name\": \"expired buy order\"})\n",
    "                    \n",
    "#                     print('heere>>>>>>>' ,verdict, self._NextEvent_, self.time)\n",
    "                    \n",
    "                    return verdict\n",
    "                \n",
    "                else:\n",
    "                    verdict = \"Buy condition not met\"\n",
    "                    self._event_log({\"event_name\": verdict})\n",
    "\n",
    "                    return verdict\n",
    "            \n",
    "            \n",
    "        elif self._NextEvent_ == 'close_sell_position':\n",
    "            if self.current_high > self.sell_position:\n",
    "                \n",
    "                \"Sell executed, waiting to open the next buy order\"\n",
    "                self.usd_wallet = self.usd_wallet + self.sell_position * self.coin_wallet * (100 - self.taker_fee)/100\n",
    "                self.coin_wallet = self.coin_wallet - self.coin_wallet\n",
    "                self._NextEvent_ = \"open_buy_position\"\n",
    "\n",
    "                \n",
    "                self._event_log({\"event_name\": \"close_sell_position\"})\n",
    "                \n",
    "                self._WaitingToFillOrder_ = False\n",
    "                \n",
    "                return \"Executed Sell\"\n",
    "            \n",
    "            else:\n",
    "                \n",
    "                if (self.time - self.position_opened_at['open_sell']).total_seconds() >= 30*60:\n",
    "                    assert pd.notnull(self.position_opened_at['open_sell']), \"should have a timestampe\"\n",
    "#                     print(\"sell order taking too long?\",  self.time)\n",
    "#                     !! ?? sell at a loss ??\n",
    "\n",
    "#                 else:\n",
    "                verdict = \"Sell condition not met\"\n",
    "                self._event_log({\"event_name\": verdict})\n",
    "\n",
    "                return verdict"
   ]
  },
  {
   "cell_type": "code",
   "execution_count": 4,
   "metadata": {},
   "outputs": [],
   "source": [
    "def window_groupby(df, grouper_key, freq, agg_grouping):\n",
    "    \"\"\"\n",
    "    Group every x minutes\n",
    "    \n",
    "    INPUT:\n",
    "    df - dataframe\n",
    "    grouper_key - column (name) to be grouped on (must be datetime)\n",
    "    freq - frequency of grouping\n",
    "    agg_grouping - dictionary of aggregations \n",
    "    \n",
    "    OUTPUT:\n",
    "    grouped dataframe\n",
    "    \"\"\"\n",
    "    df_temp = df.reset_index().groupby(pd.Grouper(key=grouper_key, freq=freq)).agg(agg_grouping)\n",
    "    \n",
    "    if 'open_time' in agg_grouping.keys():\n",
    "        df_temp.columns = [open_time_refine(col) for col in df_temp.columns]\n",
    "    \n",
    "    df_temp['avg'] = df_temp['quote_asset_volume']/df_temp['volume']\n",
    "    \n",
    "    return df_temp"
   ]
  },
  {
   "cell_type": "code",
   "execution_count": 5,
   "metadata": {},
   "outputs": [],
   "source": [
    "def add_rolling_averges(df, list_to_add_unit_hour, index_unit):\n",
    "    \"\"\"\n",
    "    INPUT:\n",
    "    df - dataframe (assume the datafram is already sorted)\n",
    "    list_to_add_unit_hour - list of rolling averages to add in the unit of hour, e.g.\n",
    "                            list_to_add_unit_hour = [1, 2, 4] , will produce R.As of\n",
    "                            1H, 2H, 4H (window calculated by dividing by the index_unit)\n",
    "                            \n",
    "    index_unit - unit of index (whatever was used in the grouper), e.g. '15min' (takes minutes)\n",
    "    \n",
    "    OUTPUT:\n",
    "    dataframe with added rolling averages\n",
    "    \"\"\"\n",
    "    df_temp = df\n",
    "    \n",
    "    rows = float(index_unit.replace('min',''))/60\n",
    "    \n",
    "    for ra in list_to_add_unit_hour:\n",
    "        \n",
    "        df_temp['ra_{x}H'.format(x=ra)] = df_temp['avg'].rolling(window=int(ra/rows)).mean()\n",
    "    \n",
    "    return df_temp"
   ]
  },
  {
   "cell_type": "code",
   "execution_count": 6,
   "metadata": {},
   "outputs": [],
   "source": [
    "def run_decision(decision_class, df_past_hours):\n",
    "    \"\"\"\n",
    "    Takes the last x hours of data and predict the values\n",
    "    \n",
    "    INPUT:\n",
    "    decision_class - a class with ml model loaded\n",
    "    df_past_hours - raw data for the past x hours to be considered\n",
    "    \n",
    "    \n",
    "    OUTPUT:\n",
    "    predicted: average, low, and high from the models\n",
    "    \n",
    "    \"\"\"\n",
    "    \n",
    "    decision_class.get_raw_data(df_past_hours)\n",
    "    decision_class.window_groupby(freq='15min', \n",
    "                      agg_grouping={'open': 'first',\n",
    "                                     'high': 'max',\n",
    "                                     'low': 'min',\n",
    "                                     'close': 'last',\n",
    "                                     'volume': 'sum',\n",
    "                                     'quote_asset_volume': 'sum',\n",
    "                                     'open_time': ['min', 'max', 'count']}\n",
    "                     )\n",
    "    decision_class.add_rolling_averges()\n",
    "    decision_class.normalising_data()\n",
    "    \n",
    "#     display(decision_class.df_normalised_input[['open_time_max']])\n",
    "    return (decision_class.get_predictions() )"
   ]
  },
  {
   "cell_type": "code",
   "execution_count": 7,
   "metadata": {},
   "outputs": [],
   "source": [
    "def open_time_refine(txt):\n",
    "    \"\"\"refine text\"\"\"\n",
    "    if txt[0] != 'open_time':\n",
    "        return txt[0]\n",
    "    \n",
    "    else:\n",
    "        return txt[0] + '_' +txt[1]"
   ]
  },
  {
   "cell_type": "code",
   "execution_count": 8,
   "metadata": {},
   "outputs": [],
   "source": [
    "def normalising_data(df, columns, base):\n",
    "    \"\"\"\n",
    "    INPUT:\n",
    "    df - dataframe to normalise\n",
    "    columns - list of columns to be normalised (column/base)\n",
    "    base - name of the normalised base (denominator)\n",
    "    \n",
    "    \n",
    "    OUTPUT:\n",
    "    df - normalised dataframe\n",
    "    \"\"\"\n",
    "    assert base not in columns, \"base should not be in the list of columns, as it will be dividing by 0\"\n",
    "    \n",
    "    df_temp = df.copy(deep=True)\n",
    "    \n",
    "    for col in columns:\n",
    "        df_temp[col] = 100 * ((df_temp[col].astype(np.float)/df_temp[base]) - 1)\n",
    "    \n",
    "    return df_temp"
   ]
  },
  {
   "cell_type": "code",
   "execution_count": null,
   "metadata": {},
   "outputs": [],
   "source": []
  },
  {
   "cell_type": "code",
   "execution_count": null,
   "metadata": {},
   "outputs": [],
   "source": []
  },
  {
   "cell_type": "markdown",
   "metadata": {},
   "source": [
    "#### Data Analysis"
   ]
  },
  {
   "cell_type": "code",
   "execution_count": 9,
   "metadata": {},
   "outputs": [],
   "source": [
    "df_ETHUSD_1min = pd.read_parquet('data/ETH-USDT.parquet')"
   ]
  },
  {
   "cell_type": "code",
   "execution_count": 10,
   "metadata": {},
   "outputs": [],
   "source": [
    "df_ETHUSD_1min = df_ETHUSD_1min[df_ETHUSD_1min['volume'] != 0].sort_index(ascending=True)"
   ]
  },
  {
   "cell_type": "code",
   "execution_count": 11,
   "metadata": {},
   "outputs": [],
   "source": [
    "agg_grouping = {'open':'first',\n",
    "                'high':'max',\n",
    "                'low':'min',\n",
    "                'close':'last',\n",
    "                'volume':'sum',\n",
    "                'quote_asset_volume':'sum',\n",
    "                'open_time':['min','max','count']\n",
    "               }\n"
   ]
  },
  {
   "cell_type": "code",
   "execution_count": 12,
   "metadata": {},
   "outputs": [],
   "source": [
    "df_15min = window_groupby(df=df_ETHUSD_1min,\n",
    "                       grouper_key='open_time',\n",
    "                       freq='15min',\n",
    "                       agg_grouping=agg_grouping\n",
    "                         )"
   ]
  },
  {
   "cell_type": "code",
   "execution_count": 44,
   "metadata": {},
   "outputs": [],
   "source": [
    "df_15min['high_low_dif'] = 100*(df_15min['high'] - df_15min['low'])/df_15min['low']"
   ]
  },
  {
   "cell_type": "code",
   "execution_count": 65,
   "metadata": {},
   "outputs": [
    {
     "data": {
      "text/html": [
       "<div>\n",
       "<style scoped>\n",
       "    .dataframe tbody tr th:only-of-type {\n",
       "        vertical-align: middle;\n",
       "    }\n",
       "\n",
       "    .dataframe tbody tr th {\n",
       "        vertical-align: top;\n",
       "    }\n",
       "\n",
       "    .dataframe thead th {\n",
       "        text-align: right;\n",
       "    }\n",
       "</style>\n",
       "<table border=\"1\" class=\"dataframe\">\n",
       "  <thead>\n",
       "    <tr style=\"text-align: right;\">\n",
       "      <th></th>\n",
       "      <th>count</th>\n",
       "      <th>mean</th>\n",
       "      <th>std</th>\n",
       "      <th>min</th>\n",
       "      <th>25%</th>\n",
       "      <th>50%</th>\n",
       "      <th>75%</th>\n",
       "      <th>max</th>\n",
       "    </tr>\n",
       "  </thead>\n",
       "  <tbody>\n",
       "    <tr>\n",
       "      <th>high_low_dif</th>\n",
       "      <td>117466.0</td>\n",
       "      <td>0.710512</td>\n",
       "      <td>0.676803</td>\n",
       "      <td>0.0</td>\n",
       "      <td>0.324162</td>\n",
       "      <td>0.51434</td>\n",
       "      <td>0.851519</td>\n",
       "      <td>9.796008</td>\n",
       "    </tr>\n",
       "  </tbody>\n",
       "</table>\n",
       "</div>"
      ],
      "text/plain": [
       "                 count      mean       std  min       25%      50%       75%  \\\n",
       "high_low_dif  117466.0  0.710512  0.676803  0.0  0.324162  0.51434  0.851519   \n",
       "\n",
       "                   max  \n",
       "high_low_dif  9.796008  "
      ]
     },
     "execution_count": 65,
     "metadata": {},
     "output_type": "execute_result"
    }
   ],
   "source": [
    "df_15min[df_15min['high_low_dif'] <= 10][['high_low_dif']].describe().T"
   ]
  },
  {
   "cell_type": "code",
   "execution_count": 63,
   "metadata": {},
   "outputs": [
    {
     "data": {
      "image/png": "[encoded data removed]",
      "text/plain": [
       "<Figure size 576x288 with 1 Axes>"
      ]
     },
     "metadata": {
      "needs_background": "light"
     },
     "output_type": "display_data"
    }
   ],
   "source": [
    "fig, ax = plt.subplots(figsize =(8,4))\n",
    "\n",
    "# the histogram of the data\n",
    "n, bins, patches = ax.hist(df_15min[df_15min['high_low_dif'] <= 10]['high_low_dif'], 100, density=False)\n",
    "\n",
    "ax.set_xlabel('Percentage Difference (%)', fontsize=14)\n",
    "ax.set_ylabel('Numer of Times (-)', fontsize=14)\n",
    "ax.set_title(\"Distribution of High-Low difference\", fontsize=18)\n",
    "\n",
    "# Tweak spacing to prevent clipping of ylabel\n",
    "fig.tight_layout()\n",
    "plt.grid()\n",
    "plt.show()"
   ]
  },
  {
   "cell_type": "markdown",
   "metadata": {},
   "source": [
    "\n",
    "\n",
    "\n",
    "\n"
   ]
  },
  {
   "cell_type": "markdown",
   "metadata": {},
   "source": [
    "### ML Training"
   ]
  },
  {
   "cell_type": "markdown",
   "metadata": {},
   "source": [
    "##### Data Preparation"
   ]
  },
  {
   "cell_type": "code",
   "execution_count": 13,
   "metadata": {},
   "outputs": [],
   "source": [
    "df_prepare = add_rolling_averges(df_15min, [1,2,4], '15min').dropna(axis=0).copy(deep=True)\n",
    "df_prepare['y_avg'] = df_prepare['avg'].shift(-1)\n",
    "df_prepare['y_low'] = 100 * ((df_prepare['low'].shift(-1) - df_prepare['y_avg'])/df_prepare['y_avg'])\n",
    "df_prepare['y_high'] = 100 * ((df_prepare['high'].shift(-1) - df_prepare['y_avg'])/df_prepare['y_avg'])\n",
    "df_prepare['y_avg'] = 100 * ((df_prepare['avg'].shift(-1) - df_prepare['avg'])/df_prepare['avg'])\n",
    "df_prepare = df_prepare[df_prepare['open_time_count'] == 15]"
   ]
  },
  {
   "cell_type": "markdown",
   "metadata": {},
   "source": [
    "\n"
   ]
  },
  {
   "cell_type": "markdown",
   "metadata": {},
   "source": [
    "##### Data Normalisation"
   ]
  },
  {
   "cell_type": "code",
   "execution_count": 17,
   "metadata": {},
   "outputs": [],
   "source": [
    "base = 'ra_1H'\n",
    "columns_to_norm = [d for d in ['open','high','low','close','avg','ra_1H','ra_2H','ra_4H'] if d != base]\n",
    "y_columns = ['y_avg','y_low','y_high']"
   ]
  },
  {
   "cell_type": "code",
   "execution_count": 18,
   "metadata": {},
   "outputs": [],
   "source": [
    "df_normalised = normalising_data(df_prepare, columns=columns_to_norm, base=base)"
   ]
  },
  {
   "cell_type": "code",
   "execution_count": 19,
   "metadata": {},
   "outputs": [],
   "source": [
    "## preparing dataframe for training\n",
    "df_input = df_normalised[columns_to_norm + y_columns].copy(deep=True)"
   ]
  },
  {
   "cell_type": "code",
   "execution_count": 20,
   "metadata": {},
   "outputs": [],
   "source": [
    "df_input = df_input[:-1]"
   ]
  },
  {
   "cell_type": "code",
   "execution_count": 21,
   "metadata": {},
   "outputs": [],
   "source": [
    "df_input_set_aside = df_input[-17000:].copy(deep=True)"
   ]
  },
  {
   "cell_type": "code",
   "execution_count": 22,
   "metadata": {},
   "outputs": [],
   "source": [
    "df_input_traintest = df_input[:-17000].copy(deep=True)"
   ]
  },
  {
   "cell_type": "code",
   "execution_count": 23,
   "metadata": {},
   "outputs": [],
   "source": [
    "df_input_traintest = shuffle(df_input_traintest)"
   ]
  },
  {
   "cell_type": "markdown",
   "metadata": {},
   "source": [
    "\n",
    "\n"
   ]
  },
  {
   "cell_type": "markdown",
   "metadata": {},
   "source": [
    "##### Model Training"
   ]
  },
  {
   "cell_type": "code",
   "execution_count": 24,
   "metadata": {},
   "outputs": [],
   "source": [
    "X_train, X_test, y_train, y_test = train_test_split(df_input_traintest[columns_to_norm].values, \n",
    "                                                    df_input_traintest[['y_avg','y_low','y_high']].values ,\n",
    "                                                    train_size=0.70,\n",
    "                                                    random_state=42)"
   ]
  },
  {
   "cell_type": "code",
   "execution_count": 25,
   "metadata": {},
   "outputs": [],
   "source": [
    "y_train_avg = np.copy(y_train[:,0])\n",
    "y_train_low = np.copy(y_train[:,1])\n",
    "y_train_high = np.copy(y_train[:,2])\n",
    "\n",
    "y_test_avg = np.copy(y_test[:,0])\n",
    "y_test_low = np.copy(y_test[:,1])\n",
    "y_test_high = np.copy(y_test[:,2])"
   ]
  },
  {
   "cell_type": "code",
   "execution_count": 26,
   "metadata": {},
   "outputs": [],
   "source": [
    "pipeline_xgb_avg_rel = Pipeline([\n",
    "                            ('multi_clf', XGBRegressor(n_estimators=100, learning_rate=0.1, gamma=0, subsample=0.75,\n",
    "                                       colsample_bytree=1, max_depth=7) )\n",
    "                            ])"
   ]
  },
  {
   "cell_type": "code",
   "execution_count": 27,
   "metadata": {},
   "outputs": [],
   "source": [
    "pipeline_xgb_low = Pipeline([('multi_clf', XGBRegressor(n_estimators=100, \n",
    "                                                       learning_rate=0.1,\n",
    "                                                       gamma=0,\n",
    "                                                       subsample=0.75,\n",
    "                                                       colsample_bytree=1,\n",
    "                                                       max_depth=7) )\n",
    "                            ])\n",
    "\n",
    "pipeline_xgb_high = Pipeline([('multi_clf', XGBRegressor(n_estimators=100,\n",
    "                                                         learning_rate=0.1,\n",
    "                                                         gamma=0,\n",
    "                                                         subsample=0.75,\n",
    "                                                         colsample_bytree=1,\n",
    "                                                         max_depth=7) )\n",
    "                            ])"
   ]
  },
  {
   "cell_type": "code",
   "execution_count": 28,
   "metadata": {},
   "outputs": [
    {
     "data": {
      "text/plain": [
       "Pipeline(steps=[('multi_clf',\n",
       "                 XGBRegressor(base_score=0.5, booster='gbtree',\n",
       "                              colsample_bylevel=1, colsample_bynode=1,\n",
       "                              colsample_bytree=1, gamma=0, gpu_id=-1,\n",
       "                              importance_type='gain',\n",
       "                              interaction_constraints='', learning_rate=0.1,\n",
       "                              max_delta_step=0, max_depth=7, min_child_weight=1,\n",
       "                              missing=nan, monotone_constraints='()',\n",
       "                              n_estimators=100, n_jobs=8, num_parallel_tree=1,\n",
       "                              random_state=0, reg_alpha=0, reg_lambda=1,\n",
       "                              scale_pos_weight=1, subsample=0.75,\n",
       "                              tree_method='exact', validate_parameters=1,\n",
       "                              verbosity=None))])"
      ]
     },
     "execution_count": 28,
     "metadata": {},
     "output_type": "execute_result"
    }
   ],
   "source": [
    "pipeline_xgb_low.fit(X_train, y_train_low)\n",
    "pipeline_xgb_avg_rel.fit(X_train, y_train_avg)\n",
    "pipeline_xgb_high.fit(X_train, y_train_high)"
   ]
  },
  {
   "cell_type": "code",
   "execution_count": 29,
   "metadata": {},
   "outputs": [
    {
     "data": {
      "text/plain": [
       "array([0.0789095 , 0.1139935 , 0.1424469 , 0.33036315, 0.17767969,\n",
       "       0.07623439, 0.0803729 ], dtype=float32)"
      ]
     },
     "execution_count": 29,
     "metadata": {},
     "output_type": "execute_result"
    }
   ],
   "source": [
    "pipeline_xgb_avg_rel._final_estimator.feature_importances_"
   ]
  },
  {
   "cell_type": "code",
   "execution_count": 30,
   "metadata": {},
   "outputs": [
    {
     "data": {
      "text/plain": [
       "array([0.03303806, 0.28210312, 0.42851874, 0.06021568, 0.04669992,\n",
       "       0.06862583, 0.08079864], dtype=float32)"
      ]
     },
     "execution_count": 30,
     "metadata": {},
     "output_type": "execute_result"
    }
   ],
   "source": [
    "pipeline_xgb_low._final_estimator.feature_importances_"
   ]
  },
  {
   "cell_type": "code",
   "execution_count": 31,
   "metadata": {},
   "outputs": [
    {
     "data": {
      "text/plain": [
       "array([0.03217942, 0.23389718, 0.435915  , 0.07492605, 0.05992798,\n",
       "       0.07854607, 0.08460832], dtype=float32)"
      ]
     },
     "execution_count": 31,
     "metadata": {},
     "output_type": "execute_result"
    }
   ],
   "source": [
    "pipeline_xgb_high._final_estimator.feature_importances_"
   ]
  },
  {
   "cell_type": "markdown",
   "metadata": {},
   "source": [
    "\n",
    "\n"
   ]
  },
  {
   "cell_type": "markdown",
   "metadata": {},
   "source": [
    "### Trading"
   ]
  },
  {
   "cell_type": "markdown",
   "metadata": {},
   "source": [
    "##### Initial Setup"
   ]
  },
  {
   "cell_type": "code",
   "execution_count": 32,
   "metadata": {},
   "outputs": [],
   "source": [
    "data_4H = pd.DataFrame([], columns = ['open','high','low','close','volume','quote_asset_volume'])\n",
    "data_4H.index.name = 'open_time'"
   ]
  },
  {
   "cell_type": "code",
   "execution_count": 33,
   "metadata": {},
   "outputs": [],
   "source": [
    "decide = DecisionMaking(columns_to_norm = columns_to_norm,\n",
    "                        base = base,\n",
    "                        list_to_add_unit_hour = [1,2,4],\n",
    "                        index_unit = '15min',\n",
    "                        model_avg = pipeline_xgb_avg_rel,\n",
    "                        model_high = pipeline_xgb_high,\n",
    "                        model_low = pipeline_xgb_low)"
   ]
  },
  {
   "cell_type": "code",
   "execution_count": 34,
   "metadata": {},
   "outputs": [],
   "source": [
    "min_df = df_ETHUSD_1min.iloc[0].name"
   ]
  },
  {
   "cell_type": "code",
   "execution_count": 35,
   "metadata": {},
   "outputs": [],
   "source": [
    "max_df = df_ETHUSD_1min.iloc[-1].name"
   ]
  },
  {
   "cell_type": "code",
   "execution_count": 36,
   "metadata": {},
   "outputs": [],
   "source": [
    "df_ETHUSD_1min_reindex = df_ETHUSD_1min.reindex(pd.date_range(start=min_df, end=max_df, freq='min')).copy(deep=True)"
   ]
  },
  {
   "cell_type": "code",
   "execution_count": 37,
   "metadata": {},
   "outputs": [],
   "source": [
    "df_ETHUSD_1min_reindex = df_ETHUSD_1min_reindex.fillna(method='ffill')"
   ]
  },
  {
   "cell_type": "code",
   "execution_count": 38,
   "metadata": {},
   "outputs": [],
   "source": [
    "df_ETHUSD_1min_reindex.index.name = 'open_time'"
   ]
  },
  {
   "cell_type": "code",
   "execution_count": 39,
   "metadata": {},
   "outputs": [],
   "source": [
    "df_base = df_ETHUSD_1min_reindex[df_ETHUSD_1min_reindex.index >= '2020-12-01'][:239]  ## + 12 to make sure it starts on the multiples of quarter minutes\n",
    "df_continue = df_ETHUSD_1min_reindex[df_ETHUSD_1min_reindex.index >= '2020-12-01'][239:]"
   ]
  },
  {
   "cell_type": "markdown",
   "metadata": {},
   "source": [
    "##### Parameters"
   ]
  },
  {
   "cell_type": "code",
   "execution_count": 53,
   "metadata": {},
   "outputs": [],
   "source": [
    "history_log = [{'time': datetime.now(),\n",
    "                'last_event': 'start outside log',\n",
    "                'next_event': 'begin trading'}]\n",
    "n = 0\n",
    "to_skip_trade = False\n",
    "\n",
    "\n",
    "downward_adjustment = 0  ## unit percent\n",
    "dif_high_low = 3 ## unit percent\n",
    "order_high_from_low = 2.5 ## unit percent, at least 0.4\n",
    "\n",
    "# eth_bot1 = TradingBot(100, 0)\n",
    "# next_event = eth_bot1.get_log()[-1]['next_action'] \n",
    "\n",
    "prediction_log = []\n",
    "\n",
    "number_of_window = 0\n",
    "\n",
    "_Waiting_ = False  ## waiting for orders\n",
    "_LastEvent_ = 'initiation'\n",
    "_NextEvent_ = 'open_buy_position'  # open_buy_position | close_buy_position | close_sell_position\n",
    "                                   # open_sell_position <- should be done in MrMarket\n",
    "                                    \n",
    "\n",
    "MrMarket_ETH = MrMarket(usd=100,\n",
    "                        coin=0, \n",
    "                        last_event=_LastEvent_,\n",
    "                        next_event=_NextEvent_,\n",
    "                        taker_fee=0.4)\n",
    "wait_for_one = False"
   ]
  },
  {
   "cell_type": "markdown",
   "metadata": {},
   "source": [
    "#### Execution"
   ]
  },
  {
   "cell_type": "code",
   "execution_count": 53,
   "metadata": {},
   "outputs": [
    {
     "name": "stdout",
     "output_type": "stream",
     "text": [
      "initialisation\n"
     ]
    },
    {
     "data": {
      "text/html": [
       "<div>\n",
       "<style scoped>\n",
       "    .dataframe tbody tr th:only-of-type {\n",
       "        vertical-align: middle;\n",
       "    }\n",
       "\n",
       "    .dataframe tbody tr th {\n",
       "        vertical-align: top;\n",
       "    }\n",
       "\n",
       "    .dataframe thead th {\n",
       "        text-align: right;\n",
       "    }\n",
       "</style>\n",
       "<table border=\"1\" class=\"dataframe\">\n",
       "  <thead>\n",
       "    <tr style=\"text-align: right;\">\n",
       "      <th></th>\n",
       "      <th>time_of_event</th>\n",
       "      <th>event_name</th>\n",
       "      <th>usd_wallet</th>\n",
       "      <th>coin_wallet</th>\n",
       "      <th>next_action</th>\n",
       "      <th>pred_low</th>\n",
       "      <th>pred_high</th>\n",
       "      <th>true_low</th>\n",
       "      <th>true_high</th>\n",
       "    </tr>\n",
       "  </thead>\n",
       "  <tbody>\n",
       "    <tr>\n",
       "      <th>0</th>\n",
       "      <td>2021-02-13 14:21:49.845950</td>\n",
       "      <td>initiation</td>\n",
       "      <td>100</td>\n",
       "      <td>0</td>\n",
       "      <td>open_buy_position</td>\n",
       "      <td>None</td>\n",
       "      <td>None</td>\n",
       "      <td>None</td>\n",
       "      <td>None</td>\n",
       "    </tr>\n",
       "  </tbody>\n",
       "</table>\n",
       "</div>"
      ],
      "text/plain": [
       "               time_of_event  event_name  usd_wallet  coin_wallet  \\\n",
       "0 2021-02-13 14:21:49.845950  initiation         100            0   \n",
       "\n",
       "         next_action pred_low pred_high true_low true_high  \n",
       "0  open_buy_position     None      None     None      None  "
      ]
     },
     "metadata": {},
     "output_type": "display_data"
    }
   ],
   "source": [
    "   \n",
    "for k, row in df_continue.iterrows():\n",
    "    \"\"\"4H of data\"\"\"\n",
    "    row_append =pd.Series( {'open' :row['open'],\n",
    "                          'high' :row['high'],\n",
    "                          'low'  :row['low'],\n",
    "                          'close':row['close'],\n",
    "                          'volume':row['volume'],\n",
    "                          'quote_asset_volume':row['quote_asset_volume']\n",
    "                       }, \n",
    "                     name = row.name\n",
    "                     )\n",
    "\n",
    "    df_base = df_base.append(row_append, ignore_index=False)\n",
    "    \n",
    "    ## if at 15min point, and ....\n",
    "    if (n%15 == 0) and \\\n",
    "       (_NextEvent_ == 'open_buy_position') and \\\n",
    "       (_Waiting_ == False) :\n",
    "#         print('ML training ---------------------', row.name)\n",
    "        for_log = run_decision(decide, df_base) ## apend to log\n",
    "        \n",
    "#         print(\"condition:  \", 100 * (for_log['pred_high']/for_log['pred_low'] -1) > dif_high_low, 100 * (for_log['pred_high']/for_log['pred_low'] -1))\n",
    "        \n",
    "        ## check if the margin is okay\n",
    "        if 100 * (for_log['pred_high']/for_log['pred_low'] -1) > dif_high_low:\n",
    "            number_of_window += 1\n",
    "            \n",
    "            predicted_values = run_decision(decide, df_base)\n",
    "            low_price_position = predicted_values['pred_low'] * ((100-downward_adjustment)/100)\n",
    "            high_price_position = low_price_position * (100 + order_high_from_low)/100\n",
    "\n",
    "\n",
    "            MrMarket_ETH.open_buy_position(low_price_position, high_price_position, row) # should then have a buy position opened at low price, then a sell position once that is triggered\n",
    "            _LastEvent_ = _NextEvent_\n",
    "            _Waiting_, _NextEvent_ = MrMarket_ETH._CheckOrder_() ## True, close_buy_position\n",
    "        \n",
    "            wait_for_one = True\n",
    "            \n",
    "            assert _Waiting_ in [True, False], \"_Waiting_ must be boolean\"\n",
    "            assert _NextEvent_ in ['close_buy_position','close_sell_position']\n",
    "            \n",
    "            continue\n",
    "\n",
    "        else:\n",
    "            history_log.append({'time': row.name,\n",
    "                                'last_event': \"margin not met\",\n",
    "                                'next_event': _NextEvent_,\n",
    "                                'detail'    : for_log})\n",
    "      \n",
    "    if wait_for_one:\n",
    "        wait_for_one = False\n",
    "\n",
    "    else:\n",
    "        if _Waiting_ == True:\n",
    "            ## All the below can be put in MrMarket\n",
    "\n",
    "            MrMarket_ETH.data(row)  ## provide data for MrMarket\n",
    "            if _NextEvent_ == 'close_buy_position': ## close sell position should be done with MrMarket\n",
    "                _Verdict_ = MrMarket_ETH.check_status(_NextEvent_) ## check if true_low <= pred_low\n",
    "\n",
    "                assert _Verdict_ in ['Buy condition not met', 'Executed Buy', 'Buy order expired, Reset']\n",
    "\n",
    "                if _Verdict_ == 'Executed Buy':\n",
    "                    _LastEvent_ = _NextEvent_\n",
    "                    _Waiting_, _NextEvent_ = MrMarket_ETH._CheckOrder_()  ## should have already executed buy order, and open a sell order\n",
    "                    assert _Waiting_ == True, \"Should be still waiting for the execution\"\n",
    "                    assert _NextEvent_ == 'close_sell_position', \"Next event should be close sell position\"\n",
    "\n",
    "                    history_log.append({'time': row.name,\n",
    "                                        'last_event': _LastEvent_,\n",
    "                                        'next_event': _Verdict_})\n",
    "\n",
    "                elif _Verdict_ == 'Buy condition not met':\n",
    "                    history_log.append({'time': row.name,\n",
    "                                        'last_event': _LastEvent_,\n",
    "                                        'next_event': _Verdict_})\n",
    "\n",
    "                elif _Verdict_ == 'Buy order expired, Reset':\n",
    "                    history_log.append({'time': row.name,\n",
    "                                        'last_event': _LastEvent_,\n",
    "                                        'next_event': _Verdict_})\n",
    "                    _Waiting_ = False\n",
    "                    _NextEvent_ = 'open_buy_position'\n",
    "\n",
    "                else:\n",
    "                    print(\"!! _Verdict_ is wrong!! Shouldn't show: {} \".format(_Verdict_))\n",
    "                    break \n",
    "                    #! shouldn't have anything here\n",
    "\n",
    "            else:\n",
    "                _Verdict_ = MrMarket_ETH.check_status(_NextEvent_)\n",
    "                assert _Verdict_ in ['Sell condition not met', 'Executed Sell']\n",
    "\n",
    "                if _Verdict_ == 'Executed Sell':\n",
    "                    _LastEvent_ = _NextEvent_\n",
    "                    _Waiting_, _NextEvent_ = MrMarket_ETH._CheckOrder_()  ## should have already executed sell order, and should be just waiting now\n",
    "                    assert _Waiting_ == False, \"Should not be waiting for anything, ready to accept a new buy order\"\n",
    "                    assert _NextEvent_ == 'open_buy_position', \"Next event should be open buy position\"\n",
    "\n",
    "                    history_log.append({'time': row.name,\n",
    "                                        'last_event': _LastEvent_,\n",
    "                                        'next_event': _Verdict_})\n",
    "\n",
    "                else: ## sell condition not met\n",
    "                    history_log.append({'time': row.name,\n",
    "                                        'last_event': _LastEvent_,\n",
    "                                        'next_event': _Verdict_})\n",
    "\n",
    "\n",
    "    #             elif: ## expired order\n",
    "\n",
    "\n",
    "        else:\n",
    "            history_log.append({'time': row.name,\n",
    "                                'last_event': \"some condition not met\",\n",
    "                                'next_event': _NextEvent_,\n",
    "                                'detail'    : for_log})\n",
    "    \n",
    "    n += 1 \n",
    "    df_base = df_base[1:]"
   ]
  },
  {
   "cell_type": "code",
   "execution_count": 54,
   "metadata": {},
   "outputs": [],
   "source": [
    "trading_log = pd.DataFrame(MrMarket_ETH.history_log)"
   ]
  },
  {
   "cell_type": "code",
   "execution_count": 55,
   "metadata": {},
   "outputs": [
    {
     "data": {
      "text/html": [
       "<div>\n",
       "<style scoped>\n",
       "    .dataframe tbody tr th:only-of-type {\n",
       "        vertical-align: middle;\n",
       "    }\n",
       "\n",
       "    .dataframe tbody tr th {\n",
       "        vertical-align: top;\n",
       "    }\n",
       "\n",
       "    .dataframe thead th {\n",
       "        text-align: right;\n",
       "    }\n",
       "</style>\n",
       "<table border=\"1\" class=\"dataframe\">\n",
       "  <thead>\n",
       "    <tr style=\"text-align: right;\">\n",
       "      <th></th>\n",
       "      <th>time_of_event</th>\n",
       "      <th>event_name</th>\n",
       "      <th>usd_wallet</th>\n",
       "      <th>coin_wallet</th>\n",
       "      <th>next_action</th>\n",
       "      <th>pred_low</th>\n",
       "      <th>pred_high</th>\n",
       "      <th>true_low</th>\n",
       "      <th>true_high</th>\n",
       "      <th>position_opened_at</th>\n",
       "    </tr>\n",
       "  </thead>\n",
       "  <tbody>\n",
       "    <tr>\n",
       "      <th>0</th>\n",
       "      <td>2021-02-13 14:21:49.845950</td>\n",
       "      <td>initiation</td>\n",
       "      <td>100.000000</td>\n",
       "      <td>0.000000</td>\n",
       "      <td>open_buy_position</td>\n",
       "      <td>NaN</td>\n",
       "      <td>NaN</td>\n",
       "      <td>NaN</td>\n",
       "      <td>NaN</td>\n",
       "      <td>NaN</td>\n",
       "    </tr>\n",
       "    <tr>\n",
       "      <th>1</th>\n",
       "      <td>2020-12-01 03:59:00.000000</td>\n",
       "      <td>open_buy_position</td>\n",
       "      <td>100.000000</td>\n",
       "      <td>0.000000</td>\n",
       "      <td>close_buy_position</td>\n",
       "      <td>608.382577</td>\n",
       "      <td>623.592142</td>\n",
       "      <td>603.640015</td>\n",
       "      <td>605.500000</td>\n",
       "      <td>{'open_buy': 2020-12-01 03:59:00, 'open_sell':...</td>\n",
       "    </tr>\n",
       "    <tr>\n",
       "      <th>2</th>\n",
       "      <td>2020-12-01 04:01:00.000000</td>\n",
       "      <td>close_buy_position, (auto: opened sell position)</td>\n",
       "      <td>0.000000</td>\n",
       "      <td>0.163713</td>\n",
       "      <td>close_sell_position</td>\n",
       "      <td>608.382577</td>\n",
       "      <td>623.592142</td>\n",
       "      <td>604.030029</td>\n",
       "      <td>605.109985</td>\n",
       "      <td>{'open_buy': None, 'open_sell': 2020-12-01 04:...</td>\n",
       "    </tr>\n",
       "    <tr>\n",
       "      <th>3</th>\n",
       "      <td>2020-12-01 04:02:00.000000</td>\n",
       "      <td>Sell condition not met</td>\n",
       "      <td>0.000000</td>\n",
       "      <td>0.163713</td>\n",
       "      <td>close_sell_position</td>\n",
       "      <td>608.382577</td>\n",
       "      <td>623.592142</td>\n",
       "      <td>604.659973</td>\n",
       "      <td>606.330017</td>\n",
       "      <td>{'open_buy': None, 'open_sell': 2020-12-01 04:...</td>\n",
       "    </tr>\n",
       "    <tr>\n",
       "      <th>4</th>\n",
       "      <td>2020-12-01 04:03:00.000000</td>\n",
       "      <td>Sell condition not met</td>\n",
       "      <td>0.000000</td>\n",
       "      <td>0.163713</td>\n",
       "      <td>close_sell_position</td>\n",
       "      <td>608.382577</td>\n",
       "      <td>623.592142</td>\n",
       "      <td>606.000000</td>\n",
       "      <td>606.799988</td>\n",
       "      <td>{'open_buy': None, 'open_sell': 2020-12-01 04:...</td>\n",
       "    </tr>\n",
       "    <tr>\n",
       "      <th>...</th>\n",
       "      <td>...</td>\n",
       "      <td>...</td>\n",
       "      <td>...</td>\n",
       "      <td>...</td>\n",
       "      <td>...</td>\n",
       "      <td>...</td>\n",
       "      <td>...</td>\n",
       "      <td>...</td>\n",
       "      <td>...</td>\n",
       "      <td>...</td>\n",
       "    </tr>\n",
       "    <tr>\n",
       "      <th>36487</th>\n",
       "      <td>2020-12-27 16:59:00.000000</td>\n",
       "      <td>Buy condition not met</td>\n",
       "      <td>105.130233</td>\n",
       "      <td>0.000000</td>\n",
       "      <td>close_buy_position</td>\n",
       "      <td>682.517925</td>\n",
       "      <td>699.580873</td>\n",
       "      <td>694.539978</td>\n",
       "      <td>696.679993</td>\n",
       "      <td>{'open_buy': 2020-12-27 16:33:00, 'open_sell':...</td>\n",
       "    </tr>\n",
       "    <tr>\n",
       "      <th>36488</th>\n",
       "      <td>2020-12-27 17:00:00.000000</td>\n",
       "      <td>Buy condition not met</td>\n",
       "      <td>105.130233</td>\n",
       "      <td>0.000000</td>\n",
       "      <td>close_buy_position</td>\n",
       "      <td>682.517925</td>\n",
       "      <td>699.580873</td>\n",
       "      <td>693.989990</td>\n",
       "      <td>696.619995</td>\n",
       "      <td>{'open_buy': 2020-12-27 16:33:00, 'open_sell':...</td>\n",
       "    </tr>\n",
       "    <tr>\n",
       "      <th>36489</th>\n",
       "      <td>2020-12-27 17:01:00.000000</td>\n",
       "      <td>Buy condition not met</td>\n",
       "      <td>105.130233</td>\n",
       "      <td>0.000000</td>\n",
       "      <td>close_buy_position</td>\n",
       "      <td>682.517925</td>\n",
       "      <td>699.580873</td>\n",
       "      <td>693.289978</td>\n",
       "      <td>695.950012</td>\n",
       "      <td>{'open_buy': 2020-12-27 16:33:00, 'open_sell':...</td>\n",
       "    </tr>\n",
       "    <tr>\n",
       "      <th>36490</th>\n",
       "      <td>2020-12-27 17:02:00.000000</td>\n",
       "      <td>Buy condition not met</td>\n",
       "      <td>105.130233</td>\n",
       "      <td>0.000000</td>\n",
       "      <td>close_buy_position</td>\n",
       "      <td>682.517925</td>\n",
       "      <td>699.580873</td>\n",
       "      <td>692.200012</td>\n",
       "      <td>694.919983</td>\n",
       "      <td>{'open_buy': 2020-12-27 16:33:00, 'open_sell':...</td>\n",
       "    </tr>\n",
       "    <tr>\n",
       "      <th>36491</th>\n",
       "      <td>2020-12-27 17:03:00.000000</td>\n",
       "      <td>expired buy order</td>\n",
       "      <td>105.130233</td>\n",
       "      <td>0.000000</td>\n",
       "      <td>open_buy_position</td>\n",
       "      <td>682.517925</td>\n",
       "      <td>699.580873</td>\n",
       "      <td>691.909973</td>\n",
       "      <td>693.880005</td>\n",
       "      <td>None</td>\n",
       "    </tr>\n",
       "  </tbody>\n",
       "</table>\n",
       "<p>36492 rows × 10 columns</p>\n",
       "</div>"
      ],
      "text/plain": [
       "                   time_of_event  \\\n",
       "0     2021-02-13 14:21:49.845950   \n",
       "1     2020-12-01 03:59:00.000000   \n",
       "2     2020-12-01 04:01:00.000000   \n",
       "3     2020-12-01 04:02:00.000000   \n",
       "4     2020-12-01 04:03:00.000000   \n",
       "...                          ...   \n",
       "36487 2020-12-27 16:59:00.000000   \n",
       "36488 2020-12-27 17:00:00.000000   \n",
       "36489 2020-12-27 17:01:00.000000   \n",
       "36490 2020-12-27 17:02:00.000000   \n",
       "36491 2020-12-27 17:03:00.000000   \n",
       "\n",
       "                                             event_name  usd_wallet  \\\n",
       "0                                            initiation  100.000000   \n",
       "1                                     open_buy_position  100.000000   \n",
       "2      close_buy_position, (auto: opened sell position)    0.000000   \n",
       "3                                Sell condition not met    0.000000   \n",
       "4                                Sell condition not met    0.000000   \n",
       "...                                                 ...         ...   \n",
       "36487                             Buy condition not met  105.130233   \n",
       "36488                             Buy condition not met  105.130233   \n",
       "36489                             Buy condition not met  105.130233   \n",
       "36490                             Buy condition not met  105.130233   \n",
       "36491                                 expired buy order  105.130233   \n",
       "\n",
       "       coin_wallet          next_action    pred_low   pred_high    true_low  \\\n",
       "0         0.000000    open_buy_position         NaN         NaN         NaN   \n",
       "1         0.000000   close_buy_position  608.382577  623.592142  603.640015   \n",
       "2         0.163713  close_sell_position  608.382577  623.592142  604.030029   \n",
       "3         0.163713  close_sell_position  608.382577  623.592142  604.659973   \n",
       "4         0.163713  close_sell_position  608.382577  623.592142  606.000000   \n",
       "...            ...                  ...         ...         ...         ...   \n",
       "36487     0.000000   close_buy_position  682.517925  699.580873  694.539978   \n",
       "36488     0.000000   close_buy_position  682.517925  699.580873  693.989990   \n",
       "36489     0.000000   close_buy_position  682.517925  699.580873  693.289978   \n",
       "36490     0.000000   close_buy_position  682.517925  699.580873  692.200012   \n",
       "36491     0.000000    open_buy_position  682.517925  699.580873  691.909973   \n",
       "\n",
       "        true_high                                 position_opened_at  \n",
       "0             NaN                                                NaN  \n",
       "1      605.500000  {'open_buy': 2020-12-01 03:59:00, 'open_sell':...  \n",
       "2      605.109985  {'open_buy': None, 'open_sell': 2020-12-01 04:...  \n",
       "3      606.330017  {'open_buy': None, 'open_sell': 2020-12-01 04:...  \n",
       "4      606.799988  {'open_buy': None, 'open_sell': 2020-12-01 04:...  \n",
       "...           ...                                                ...  \n",
       "36487  696.679993  {'open_buy': 2020-12-27 16:33:00, 'open_sell':...  \n",
       "36488  696.619995  {'open_buy': 2020-12-27 16:33:00, 'open_sell':...  \n",
       "36489  695.950012  {'open_buy': 2020-12-27 16:33:00, 'open_sell':...  \n",
       "36490  694.919983  {'open_buy': 2020-12-27 16:33:00, 'open_sell':...  \n",
       "36491  693.880005                                               None  \n",
       "\n",
       "[36492 rows x 10 columns]"
      ]
     },
     "execution_count": 55,
     "metadata": {},
     "output_type": "execute_result"
    }
   ],
   "source": [
    "trading_log"
   ]
  },
  {
   "cell_type": "code",
   "execution_count": 56,
   "metadata": {},
   "outputs": [
    {
     "data": {
      "text/plain": [
       "<AxesSubplot:>"
      ]
     },
     "execution_count": 56,
     "metadata": {},
     "output_type": "execute_result"
    },
    {
     "data": {
      "image/png": "[encoded data removed]",
      "text/plain": [
       "<Figure size 432x288 with 1 Axes>"
      ]
     },
     "metadata": {
      "needs_background": "light"
     },
     "output_type": "display_data"
    }
   ],
   "source": [
    "trading_log[trading_log['usd_wallet'] != 0][['usd_wallet']].plot()"
   ]
  },
  {
   "cell_type": "code",
   "execution_count": 67,
   "metadata": {},
   "outputs": [],
   "source": [
    "df_result_to_plot = df_continue[['open','close']].reset_index().merge(trading_log[['time_of_event','event_name','usd_wallet']],\n",
    "                                                       left_on='open_time',\n",
    "                                                       right_on='time_of_event',\n",
    "                                                       how='left').set_index('open_time')"
   ]
  },
  {
   "cell_type": "markdown",
   "metadata": {},
   "source": [
    "### Evaluation"
   ]
  },
  {
   "cell_type": "code",
   "execution_count": 136,
   "metadata": {},
   "outputs": [
    {
     "data": {
      "image/png": "[encoded data removed]",
      "text/plain": [
       "<Figure size 936x432 with 1 Axes>"
      ]
     },
     "metadata": {
      "needs_background": "light"
     },
     "output_type": "display_data"
    }
   ],
   "source": [
    "fig, ax = plt.subplots(figsize =(13,6))\n",
    "\n",
    "# df_result_to_plot[['open','usd_wallet']].plot()\n",
    "\n",
    "ax.plot(df_result_to_plot.index, df_result_to_plot['open'], label='Open Price')\n",
    "\n",
    "for k, v in df_result_to_plot[df_result_to_plot['event_name'] == 'open_buy_position'].iterrows():\n",
    "    plt.axvline(k, c='g',alpha =0.5)\n",
    "    \n",
    "# for k, v in df_result_to_plot[df_result_to_plot['event_name'] == 'close_buy_position, (auto: opened sell position)'].iterrows():\n",
    "#     plt.axvline(k, dashes=(5,5), c='r', alpha = 0.7)\n",
    "plt.axvline(k, c='g',alpha =0.5, label='Open Buy Position')\n",
    "\n",
    "for k, v in df_result_to_plot[df_result_to_plot['event_name'] == 'close_sell_position'].iterrows():\n",
    "    plt.axvline(k, dashes=(5,5), c='r', alpha = 0.7)\n",
    "plt.axvline(k, dashes=(5,5), c='r', alpha = 0.7, label='Close Sell Position')\n",
    "\n",
    "ax.legend()\n",
    "\n",
    "ax.set_xlabel('Date', fontsize=14)\n",
    "ax.set_ylabel('ETH Price (USD)', fontsize=14)\n",
    "ax.set_title(\"ETH-USD Price with Bot Action\", fontsize=18)\n",
    "\n",
    "plt.grid()\n",
    "plt.show()"
   ]
  },
  {
   "cell_type": "code",
   "execution_count": null,
   "metadata": {},
   "outputs": [],
   "source": []
  },
  {
   "cell_type": "code",
   "execution_count": null,
   "metadata": {},
   "outputs": [],
   "source": []
  }
 ],
 "metadata": {
  "kernelspec": {
   "display_name": "Python 3",
   "language": "python",
   "name": "python3"
  },
  "language_info": {
   "codemirror_mode": {
    "name": "ipython",
    "version": 3
   },
   "file_extension": ".py",
   "mimetype": "text/x-python",
   "name": "python",
   "nbconvert_exporter": "python",
   "pygments_lexer": "ipython3",
   "version": "3.7.9"
  }
 },
 "nbformat": 4,
 "nbformat_minor": 4
}
