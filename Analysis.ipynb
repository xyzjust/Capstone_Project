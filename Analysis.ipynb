{
 "cells": [
  {
   "cell_type": "code",
   "execution_count": 1,
   "metadata": {},
   "outputs": [],
   "source": [
    "import pandas as pd\n",
    "import numpy as np\n",
    "\n",
    "import re\n",
    "\n",
    "import matplotlib\n",
    "import matplotlib.pyplot as plt\n",
    "\n",
    "from datetime import datetime\n",
    "from difflib import get_close_matches\n",
    "\n",
    "from sklearn.metrics import confusion_matrix, plot_confusion_matrix\n",
    "from sklearn.ensemble import RandomForestClassifier\n",
    "from sklearn.multioutput import MultiOutputClassifier\n",
    "\n",
    "from sklearn.model_selection import train_test_split\n",
    "from sklearn.pipeline import Pipeline, FeatureUnion\n",
    "from sklearn.base import BaseEstimator, TransformerMixin\n",
    "from sklearn.feature_extraction.text import CountVectorizer, TfidfTransformer\n",
    "\n",
    "from sklearn.naive_bayes import MultinomialNB\n",
    "\n",
    "\n",
    "from sklearn.metrics import accuracy_score\n",
    "from sklearn.metrics import r2_score\n",
    "\n",
    "from sklearn.pipeline import Pipeline\n",
    "from sklearn.model_selection import GridSearchCV\n",
    "from sklearn import svm\n",
    "\n",
    "from sklearn.metrics import f1_score\n",
    "\n",
    "from xgboost import XGBClassifier, XGBRegressor, plot_importance\n",
    "\n",
    "from sklearn.utils import shuffle"
   ]
  },
  {
   "cell_type": "code",
   "execution_count": 2,
   "metadata": {},
   "outputs": [],
   "source": [
    "import pickle\n",
    "# https://machinelearningmastery.com/save-load-machine-learning-models-python-scikit-learn/"
   ]
  },
  {
   "cell_type": "markdown",
   "metadata": {},
   "source": [
    "### Functions and Classes"
   ]
  },
  {
   "cell_type": "raw",
   "metadata": {},
   "source": [
    "This section provides the classes used for data cleaning, specific function details is described in the \\_\\_doc\\_\\_ string"
   ]
  },
  {
   "cell_type": "code",
   "execution_count": 3,
   "metadata": {},
   "outputs": [],
   "source": [
    "def window_groupby(df, grouper_key, freq, agg_grouping):\n",
    "    \"\"\"\n",
    "    Group every x minutes\n",
    "    \n",
    "    INPUT:\n",
    "    df - dataframe\n",
    "    grouper_key - column (name) to be grouped on (must be datetime)\n",
    "    freq - frequency of grouping\n",
    "    agg_grouping - dictionary of aggregations \n",
    "    \n",
    "    OUTPUT:\n",
    "    grouped dataframe\n",
    "    \"\"\"\n",
    "    df_temp = df.reset_index().groupby(pd.Grouper(key=grouper_key, freq=freq)).agg(agg_grouping)\n",
    "    \n",
    "    if 'open_time' in agg_grouping.keys():\n",
    "        df_temp.columns = [open_time_refine(col) for col in df_temp.columns]\n",
    "    \n",
    "    df_temp['avg'] = df_temp['quote_asset_volume']/df_temp['volume']\n",
    "    \n",
    "    return df_temp"
   ]
  },
  {
   "cell_type": "code",
   "execution_count": 4,
   "metadata": {},
   "outputs": [],
   "source": [
    "def open_time_refine(txt):\n",
    "    \"\"\"refine text\"\"\"\n",
    "    if txt[0] != 'open_time':\n",
    "        return txt[0]\n",
    "    \n",
    "    else:\n",
    "        return txt[0] + '_' +txt[1]"
   ]
  },
  {
   "cell_type": "code",
   "execution_count": 5,
   "metadata": {},
   "outputs": [],
   "source": [
    "def add_rolling_averges(df, list_to_add_unit_hour, index_unit):\n",
    "    \"\"\"\n",
    "    INPUT:\n",
    "    df - dataframe (assume the datafram is already sorted)\n",
    "    list_to_add_unit_hour - list of rolling averages to add in the unit of hour, e.g.\n",
    "                            list_to_add_unit_hour = [1, 2, 4] , will produce R.As of\n",
    "                            1H, 2H, 4H (window calculated by dividing by the index_unit)\n",
    "                            \n",
    "    index_unit - unit of index (whatever was used in the grouper), e.g. '15min' (takes minutes)\n",
    "    \n",
    "    OUTPUT:\n",
    "    dataframe with added rolling averages\n",
    "    \"\"\"\n",
    "    df_temp = df\n",
    "    \n",
    "    rows = float(index_unit.replace('min',''))/60\n",
    "    \n",
    "    for ra in list_to_add_unit_hour:\n",
    "        \n",
    "        df_temp['ra_{x}H'.format(x=ra)] = df_temp['avg'].rolling(window=int(ra/rows)).mean()\n",
    "    \n",
    "    return df_temp"
   ]
  },
  {
   "cell_type": "code",
   "execution_count": 6,
   "metadata": {},
   "outputs": [],
   "source": [
    "def normalising_data(df, columns, base):\n",
    "    \"\"\"\n",
    "    INPUT:\n",
    "    df - dataframe to normalise\n",
    "    columns - list of columns to be normalised (column/base)\n",
    "    base - name of the normalised base (denominator)\n",
    "    \n",
    "    \n",
    "    OUTPUT:\n",
    "    df - normalised dataframe\n",
    "    \"\"\"\n",
    "    assert base not in columns, \"base should not be in the list of columns, as it will be dividing by 0\"\n",
    "    \n",
    "    df_temp = df.copy(deep=True)\n",
    "    \n",
    "    for col in columns:\n",
    "        df_temp[col] = 100 * ((df_temp[col].astype(np.float)/df_temp[base]) - 1)\n",
    "    \n",
    "    return df_temp"
   ]
  },
  {
   "cell_type": "code",
   "execution_count": 7,
   "metadata": {},
   "outputs": [],
   "source": [
    "df_ETHUSD_1min = pd.read_parquet('../ETH-USDT.parquet')"
   ]
  },
  {
   "cell_type": "markdown",
   "metadata": {},
   "source": [
    "#### Data Cleaning"
   ]
  },
  {
   "cell_type": "code",
   "execution_count": 8,
   "metadata": {},
   "outputs": [],
   "source": [
    "\"\"\"Removing 0 volume\"\"\"\n",
    "df_ETHUSD_1min = df_ETHUSD_1min[df_ETHUSD_1min['volume'] != 0].sort_index(ascending=True)"
   ]
  },
  {
   "cell_type": "code",
   "execution_count": 9,
   "metadata": {},
   "outputs": [],
   "source": [
    "df_ETHUSD_1min['real_value'] = 1"
   ]
  },
  {
   "cell_type": "code",
   "execution_count": 10,
   "metadata": {},
   "outputs": [
    {
     "data": {
      "text/plain": [
       "open                            False\n",
       "high                            False\n",
       "low                             False\n",
       "close                           False\n",
       "volume                          False\n",
       "quote_asset_volume              False\n",
       "number_of_trades                False\n",
       "taker_buy_base_asset_volume     False\n",
       "taker_buy_quote_asset_volume    False\n",
       "real_value                      False\n",
       "dtype: bool"
      ]
     },
     "execution_count": 10,
     "metadata": {},
     "output_type": "execute_result"
    }
   ],
   "source": [
    "df_ETHUSD_1min.isnull().any()"
   ]
  },
  {
   "cell_type": "code",
   "execution_count": 11,
   "metadata": {},
   "outputs": [],
   "source": [
    "min_df = df_ETHUSD_1min.iloc[0].name\n",
    "max_df = df_ETHUSD_1min.iloc[-1].name\n",
    "df_ETHUSD_1min_reindex = df_ETHUSD_1min.reindex(pd.date_range(start=min_df, end=max_df, freq='min')).copy(deep=True)#.fillna(-100)\n",
    "df_ETHUSD_1min_reindex['high'] = df_ETHUSD_1min_reindex['high'].fillna(-999999)\n",
    "df_ETHUSD_1min_reindex['low'] = df_ETHUSD_1min_reindex['low'].fillna(999999)\n",
    "df_ETHUSD_1min_reindex = df_ETHUSD_1min_reindex.fillna(-100) # don't really need this step\n",
    "df_ETHUSD_1min_reindex.index.name = 'open_time'"
   ]
  },
  {
   "cell_type": "code",
   "execution_count": 12,
   "metadata": {},
   "outputs": [],
   "source": [
    "def get_max_min_time(df, freq):\n",
    "    max_ids = df.reset_index().groupby(pd.Grouper(key ='open_time', freq=freq))['high'].idxmax()\n",
    "    loc_max_ids = df.reset_index().loc[max_ids][['open_time']]\n",
    "    loc_max_ids['max_{}_at_time'.format(freq)] = loc_max_ids['open_time']\n",
    "    \n",
    "    min_ids = df.reset_index().groupby(pd.Grouper(key ='open_time', freq=freq))['low'].idxmin()    \n",
    "    loc_min_ids = df.reset_index().loc[min_ids][['open_time']]\n",
    "    loc_min_ids['min_{}_at_time'.format(freq)] = loc_min_ids['open_time']\n",
    "\n",
    "    df_max_at_time = loc_max_ids.groupby(pd.Grouper(key ='open_time', freq=freq))[['max_{}_at_time'.format(freq)]].first()\n",
    "    df_min_at_time = loc_min_ids.groupby(pd.Grouper(key ='open_time', freq=freq))[['min_{}_at_time'.format(freq)]].first()\n",
    "\n",
    "    df_max_min_time = df_max_at_time.merge(df_min_at_time, left_index=True, right_index=True, how='outer')\n",
    "    \n",
    "    return df_max_min_time"
   ]
  },
  {
   "cell_type": "code",
   "execution_count": 13,
   "metadata": {},
   "outputs": [],
   "source": [
    "agg_grouping = {'open':'first',\n",
    "                'high':'max',\n",
    "                'low':'min',\n",
    "                'close':'last',\n",
    "                'volume':'sum',\n",
    "                'quote_asset_volume':'sum',\n",
    "                'open_time':['min','max','count']\n",
    "               }"
   ]
  },
  {
   "cell_type": "code",
   "execution_count": 14,
   "metadata": {
    "collapsed": true,
    "jupyter": {
     "outputs_hidden": true
    }
   },
   "outputs": [
    {
     "name": "stdout",
     "output_type": "stream",
     "text": [
      "5\n",
      "10\n",
      "15\n",
      "20\n",
      "30\n",
      "60\n",
      "120\n",
      "180\n"
     ]
    }
   ],
   "source": [
    "dict_df_by_minutes = {}\n",
    "\n",
    "for g_minutes in [5, 10, 15, 20, 30, 60, 120, 180]:\n",
    "#     print(g_minutes)\n",
    "    freq = str(g_minutes) + 'min'\n",
    "    df = window_groupby(df=df_ETHUSD_1min,\n",
    "                           grouper_key='open_time',\n",
    "                           freq=freq,\n",
    "                           agg_grouping=agg_grouping\n",
    "                             )\n",
    "    df = df[df['open_time_count'] == g_minutes]\n",
    "    \n",
    "    df = df.merge(get_max_min_time(df=df_ETHUSD_1min_reindex, freq=freq), \n",
    "                  left_index = True,\n",
    "                  right_index = True,\n",
    "                  how='left')\n",
    "    \n",
    "    df['{}_high_after_low'.format(freq)] = df['max_{}_at_time'.format(freq)] > df['min_{}_at_time'.format(freq)]\n",
    "    df['{}_percent_change'.format(freq)] = 100 * (df['high']/df['low'] - 1)\n",
    "    dict_df_by_minutes[freq] = df\n"
   ]
  },
  {
   "cell_type": "code",
   "execution_count": 235,
   "metadata": {},
   "outputs": [
    {
     "name": "stdout",
     "output_type": "stream",
     "text": [
      "5min 0.46457467520035817\n",
      "10min 0.48948936398860876\n",
      "15min 0.49093586003197515\n",
      "20min 0.49330441000036357\n",
      "30min 0.49081273380767254\n",
      "60min 0.49402242518749534\n",
      "120min 0.4971119945990548\n",
      "180min 0.49903813511372636\n"
     ]
    }
   ],
   "source": [
    "df_stats = []\n",
    "\n",
    "for g_minutes in [5, 10, 15, 20, 30, 60, 120, 180]:\n",
    "    freq = str(g_minutes) + 'min'\n",
    "    print(freq, \n",
    "          dict_df_by_minutes[freq]['{}_high_after_low'.format(freq)].sum()/dict_df_by_minutes[freq]['{}_high_after_low'.format(freq)].count())\n",
    "    \n",
    "#     display(dict_df_by_minutes[freq].groupby('{}_high_after_low'.format(freq))[['{}_percent_change'.format(freq)]].describe())\n",
    "    df_stats.append(dict_df_by_minutes[freq][(dict_df_by_minutes[freq]['{}_high_after_low'.format(freq)]==True) &\n",
    "                                             (dict_df_by_minutes[freq]['{}_percent_change'.format(freq)]<= 6) ][['{}_percent_change'.format(freq)]].describe().T)\n",
    "\n",
    "df_stats = pd.concat(df_stats)"
   ]
  },
  {
   "cell_type": "code",
   "execution_count": 236,
   "metadata": {},
   "outputs": [],
   "source": [
    "df_stats['frequency'] = [int(d.split('min')[0]) for d in df_stats.index]"
   ]
  },
  {
   "cell_type": "code",
   "execution_count": 237,
   "metadata": {},
   "outputs": [],
   "source": [
    "df_stats['relational_freq'] = 180/df_stats['frequency']"
   ]
  },
  {
   "cell_type": "code",
   "execution_count": 238,
   "metadata": {},
   "outputs": [],
   "source": [
    "df_stats['estimated_return'] = df_stats['relational_freq']*df_stats['50%']"
   ]
  },
  {
   "cell_type": "code",
   "execution_count": 239,
   "metadata": {},
   "outputs": [],
   "source": [
    "for fee in [0.2, 0.3, 0.4, 0.5]:\n",
    "#     df_stats['0.{}%_fee'.format(fee)] = fee\n",
    "    df_stats['fee_{}%'.format(fee)] = df_stats['relational_freq']* ( df_stats['50%'] - fee)"
   ]
  },
  {
   "cell_type": "code",
   "execution_count": 240,
   "metadata": {},
   "outputs": [
    {
     "data": {
      "text/html": [
       "<div>\n",
       "<style scoped>\n",
       "    .dataframe tbody tr th:only-of-type {\n",
       "        vertical-align: middle;\n",
       "    }\n",
       "\n",
       "    .dataframe tbody tr th {\n",
       "        vertical-align: top;\n",
       "    }\n",
       "\n",
       "    .dataframe thead th {\n",
       "        text-align: right;\n",
       "    }\n",
       "</style>\n",
       "<table border=\"1\" class=\"dataframe\">\n",
       "  <thead>\n",
       "    <tr style=\"text-align: right;\">\n",
       "      <th></th>\n",
       "      <th>count</th>\n",
       "      <th>mean</th>\n",
       "      <th>std</th>\n",
       "      <th>min</th>\n",
       "      <th>25%</th>\n",
       "      <th>50%</th>\n",
       "      <th>75%</th>\n",
       "      <th>max</th>\n",
       "      <th>frequency</th>\n",
       "      <th>relational_freq</th>\n",
       "      <th>estimated_return</th>\n",
       "      <th>fee_0.2%</th>\n",
       "      <th>fee_0.3%</th>\n",
       "      <th>fee_0.4%</th>\n",
       "      <th>fee_0.5%</th>\n",
       "    </tr>\n",
       "  </thead>\n",
       "  <tbody>\n",
       "    <tr>\n",
       "      <th>5min_percent_change</th>\n",
       "      <td>157661.0</td>\n",
       "      <td>0.392369</td>\n",
       "      <td>0.384283</td>\n",
       "      <td>0.002408</td>\n",
       "      <td>0.176775</td>\n",
       "      <td>0.281346</td>\n",
       "      <td>0.467885</td>\n",
       "      <td>5.966640</td>\n",
       "      <td>5</td>\n",
       "      <td>36.0</td>\n",
       "      <td>10.128450</td>\n",
       "      <td>2.928450</td>\n",
       "      <td>-0.671550</td>\n",
       "      <td>-4.271550</td>\n",
       "      <td>-7.871550</td>\n",
       "    </tr>\n",
       "    <tr>\n",
       "      <th>10min_percent_change</th>\n",
       "      <td>81893.0</td>\n",
       "      <td>0.546996</td>\n",
       "      <td>0.499401</td>\n",
       "      <td>0.003386</td>\n",
       "      <td>0.255823</td>\n",
       "      <td>0.401604</td>\n",
       "      <td>0.657403</td>\n",
       "      <td>5.920720</td>\n",
       "      <td>10</td>\n",
       "      <td>18.0</td>\n",
       "      <td>7.228875</td>\n",
       "      <td>3.628875</td>\n",
       "      <td>1.828875</td>\n",
       "      <td>0.028875</td>\n",
       "      <td>-1.771125</td>\n",
       "    </tr>\n",
       "    <tr>\n",
       "      <th>15min_percent_change</th>\n",
       "      <td>54248.0</td>\n",
       "      <td>0.669075</td>\n",
       "      <td>0.581419</td>\n",
       "      <td>0.006866</td>\n",
       "      <td>0.318503</td>\n",
       "      <td>0.496602</td>\n",
       "      <td>0.807756</td>\n",
       "      <td>5.962920</td>\n",
       "      <td>15</td>\n",
       "      <td>12.0</td>\n",
       "      <td>5.959225</td>\n",
       "      <td>3.559225</td>\n",
       "      <td>2.359225</td>\n",
       "      <td>1.159225</td>\n",
       "      <td>-0.040775</td>\n",
       "    </tr>\n",
       "    <tr>\n",
       "      <th>20min_percent_change</th>\n",
       "      <td>40585.0</td>\n",
       "      <td>0.770201</td>\n",
       "      <td>0.649730</td>\n",
       "      <td>0.016236</td>\n",
       "      <td>0.368965</td>\n",
       "      <td>0.576913</td>\n",
       "      <td>0.934494</td>\n",
       "      <td>5.990350</td>\n",
       "      <td>20</td>\n",
       "      <td>9.0</td>\n",
       "      <td>5.192220</td>\n",
       "      <td>3.392220</td>\n",
       "      <td>2.492220</td>\n",
       "      <td>1.592220</td>\n",
       "      <td>0.692220</td>\n",
       "    </tr>\n",
       "    <tr>\n",
       "      <th>30min_percent_change</th>\n",
       "      <td>26639.0</td>\n",
       "      <td>0.938777</td>\n",
       "      <td>0.746233</td>\n",
       "      <td>0.061178</td>\n",
       "      <td>0.459540</td>\n",
       "      <td>0.718939</td>\n",
       "      <td>1.150775</td>\n",
       "      <td>5.975378</td>\n",
       "      <td>30</td>\n",
       "      <td>6.0</td>\n",
       "      <td>4.313636</td>\n",
       "      <td>3.113636</td>\n",
       "      <td>2.513636</td>\n",
       "      <td>1.913636</td>\n",
       "      <td>1.313636</td>\n",
       "    </tr>\n",
       "    <tr>\n",
       "      <th>60min_percent_change</th>\n",
       "      <td>13156.0</td>\n",
       "      <td>1.309967</td>\n",
       "      <td>0.939537</td>\n",
       "      <td>0.094414</td>\n",
       "      <td>0.664318</td>\n",
       "      <td>1.031131</td>\n",
       "      <td>1.642221</td>\n",
       "      <td>5.986309</td>\n",
       "      <td>60</td>\n",
       "      <td>3.0</td>\n",
       "      <td>3.093392</td>\n",
       "      <td>2.493392</td>\n",
       "      <td>2.193392</td>\n",
       "      <td>1.893392</td>\n",
       "      <td>1.593392</td>\n",
       "    </tr>\n",
       "    <tr>\n",
       "      <th>120min_percent_change</th>\n",
       "      <td>6430.0</td>\n",
       "      <td>1.788777</td>\n",
       "      <td>1.113442</td>\n",
       "      <td>0.232041</td>\n",
       "      <td>0.973293</td>\n",
       "      <td>1.483756</td>\n",
       "      <td>2.310610</td>\n",
       "      <td>5.999434</td>\n",
       "      <td>120</td>\n",
       "      <td>1.5</td>\n",
       "      <td>2.225634</td>\n",
       "      <td>1.925634</td>\n",
       "      <td>1.775634</td>\n",
       "      <td>1.625634</td>\n",
       "      <td>1.475634</td>\n",
       "    </tr>\n",
       "    <tr>\n",
       "      <th>180min_percent_change</th>\n",
       "      <td>4176.0</td>\n",
       "      <td>2.116611</td>\n",
       "      <td>1.195831</td>\n",
       "      <td>0.252211</td>\n",
       "      <td>1.202384</td>\n",
       "      <td>1.838750</td>\n",
       "      <td>2.805597</td>\n",
       "      <td>5.981576</td>\n",
       "      <td>180</td>\n",
       "      <td>1.0</td>\n",
       "      <td>1.838750</td>\n",
       "      <td>1.638750</td>\n",
       "      <td>1.538750</td>\n",
       "      <td>1.438750</td>\n",
       "      <td>1.338750</td>\n",
       "    </tr>\n",
       "  </tbody>\n",
       "</table>\n",
       "</div>"
      ],
      "text/plain": [
       "                          count      mean       std       min       25%  \\\n",
       "5min_percent_change    157661.0  0.392369  0.384283  0.002408  0.176775   \n",
       "10min_percent_change    81893.0  0.546996  0.499401  0.003386  0.255823   \n",
       "15min_percent_change    54248.0  0.669075  0.581419  0.006866  0.318503   \n",
       "20min_percent_change    40585.0  0.770201  0.649730  0.016236  0.368965   \n",
       "30min_percent_change    26639.0  0.938777  0.746233  0.061178  0.459540   \n",
       "60min_percent_change    13156.0  1.309967  0.939537  0.094414  0.664318   \n",
       "120min_percent_change    6430.0  1.788777  1.113442  0.232041  0.973293   \n",
       "180min_percent_change    4176.0  2.116611  1.195831  0.252211  1.202384   \n",
       "\n",
       "                            50%       75%       max  frequency  \\\n",
       "5min_percent_change    0.281346  0.467885  5.966640          5   \n",
       "10min_percent_change   0.401604  0.657403  5.920720         10   \n",
       "15min_percent_change   0.496602  0.807756  5.962920         15   \n",
       "20min_percent_change   0.576913  0.934494  5.990350         20   \n",
       "30min_percent_change   0.718939  1.150775  5.975378         30   \n",
       "60min_percent_change   1.031131  1.642221  5.986309         60   \n",
       "120min_percent_change  1.483756  2.310610  5.999434        120   \n",
       "180min_percent_change  1.838750  2.805597  5.981576        180   \n",
       "\n",
       "                       relational_freq  estimated_return  fee_0.2%  fee_0.3%  \\\n",
       "5min_percent_change               36.0         10.128450  2.928450 -0.671550   \n",
       "10min_percent_change              18.0          7.228875  3.628875  1.828875   \n",
       "15min_percent_change              12.0          5.959225  3.559225  2.359225   \n",
       "20min_percent_change               9.0          5.192220  3.392220  2.492220   \n",
       "30min_percent_change               6.0          4.313636  3.113636  2.513636   \n",
       "60min_percent_change               3.0          3.093392  2.493392  2.193392   \n",
       "120min_percent_change              1.5          2.225634  1.925634  1.775634   \n",
       "180min_percent_change              1.0          1.838750  1.638750  1.538750   \n",
       "\n",
       "                       fee_0.4%  fee_0.5%  \n",
       "5min_percent_change   -4.271550 -7.871550  \n",
       "10min_percent_change   0.028875 -1.771125  \n",
       "15min_percent_change   1.159225 -0.040775  \n",
       "20min_percent_change   1.592220  0.692220  \n",
       "30min_percent_change   1.913636  1.313636  \n",
       "60min_percent_change   1.893392  1.593392  \n",
       "120min_percent_change  1.625634  1.475634  \n",
       "180min_percent_change  1.438750  1.338750  "
      ]
     },
     "execution_count": 240,
     "metadata": {},
     "output_type": "execute_result"
    }
   ],
   "source": [
    "df_stats"
   ]
  },
  {
   "cell_type": "code",
   "execution_count": 243,
   "metadata": {},
   "outputs": [
    {
     "data": {
      "image/png": "[encoded data removed]",
      "text/plain": [
       "<Figure size 720x432 with 1 Axes>"
      ]
     },
     "metadata": {
      "needs_background": "light"
     },
     "output_type": "display_data"
    }
   ],
   "source": [
    "# plt.subplots(figsize =(8,4))\n",
    "df_stats.set_index('relational_freq')[['fee_0.2%','fee_0.3%','fee_0.4%','fee_0.5%']].plot(figsize=(10,6))\n",
    "plt.title('Fee Impact on Return', fontsize=14)\n",
    "plt.ylabel('Estimated Return (%)', fontsize=13)\n",
    "plt.xlabel('Relational Frequency', fontsize=13)\n",
    "plt.grid()\n",
    "plt.show()"
   ]
  },
  {
   "cell_type": "code",
   "execution_count": null,
   "metadata": {},
   "outputs": [],
   "source": []
  },
  {
   "cell_type": "code",
   "execution_count": null,
   "metadata": {},
   "outputs": [],
   "source": []
  },
  {
   "cell_type": "code",
   "execution_count": 22,
   "metadata": {},
   "outputs": [],
   "source": [
    "df_15min = window_groupby(df=df_ETHUSD_1min,\n",
    "                       grouper_key='open_time',\n",
    "                       freq='15min',\n",
    "                       agg_grouping=agg_grouping\n",
    "                         )"
   ]
  },
  {
   "cell_type": "code",
   "execution_count": 23,
   "metadata": {},
   "outputs": [],
   "source": [
    "df_15min['high_low_dif'] = 100*(df_15min['high'] - df_15min['low'])/df_15min['low']"
   ]
  },
  {
   "cell_type": "code",
   "execution_count": 24,
   "metadata": {},
   "outputs": [
    {
     "data": {
      "text/html": [
       "<div>\n",
       "<style scoped>\n",
       "    .dataframe tbody tr th:only-of-type {\n",
       "        vertical-align: middle;\n",
       "    }\n",
       "\n",
       "    .dataframe tbody tr th {\n",
       "        vertical-align: top;\n",
       "    }\n",
       "\n",
       "    .dataframe thead th {\n",
       "        text-align: right;\n",
       "    }\n",
       "</style>\n",
       "<table border=\"1\" class=\"dataframe\">\n",
       "  <thead>\n",
       "    <tr style=\"text-align: right;\">\n",
       "      <th></th>\n",
       "      <th>count</th>\n",
       "      <th>mean</th>\n",
       "      <th>std</th>\n",
       "      <th>min</th>\n",
       "      <th>25%</th>\n",
       "      <th>50%</th>\n",
       "      <th>75%</th>\n",
       "      <th>max</th>\n",
       "    </tr>\n",
       "  </thead>\n",
       "  <tbody>\n",
       "    <tr>\n",
       "      <th>high_low_dif</th>\n",
       "      <td>117466.0</td>\n",
       "      <td>0.710512</td>\n",
       "      <td>0.676803</td>\n",
       "      <td>0.0</td>\n",
       "      <td>0.324162</td>\n",
       "      <td>0.51434</td>\n",
       "      <td>0.851519</td>\n",
       "      <td>9.796008</td>\n",
       "    </tr>\n",
       "  </tbody>\n",
       "</table>\n",
       "</div>"
      ],
      "text/plain": [
       "                 count      mean       std  min       25%      50%       75%  \\\n",
       "high_low_dif  117466.0  0.710512  0.676803  0.0  0.324162  0.51434  0.851519   \n",
       "\n",
       "                   max  \n",
       "high_low_dif  9.796008  "
      ]
     },
     "execution_count": 24,
     "metadata": {},
     "output_type": "execute_result"
    }
   ],
   "source": [
    "df_15min[df_15min['high_low_dif'] <= 10][['high_low_dif']].describe().T"
   ]
  },
  {
   "cell_type": "code",
   "execution_count": null,
   "metadata": {},
   "outputs": [],
   "source": []
  },
  {
   "cell_type": "code",
   "execution_count": null,
   "metadata": {},
   "outputs": [],
   "source": []
  },
  {
   "cell_type": "markdown",
   "metadata": {},
   "source": [
    "### ML Training"
   ]
  },
  {
   "cell_type": "markdown",
   "metadata": {},
   "source": [
    "##### Data Preparation"
   ]
  },
  {
   "cell_type": "markdown",
   "metadata": {},
   "source": [
    "To train the regression model, the data must be normalised\n",
    "Rather than normalising by 1 value, due to the range of max and min values, it would be more appropirate to normalise based on a \"local\" value (i.e. rolling average). Therefore, the percentage change relating to the rolling average would be a feature to be considered.\n",
    "\n",
    "Here, 1, 2 and 4 Hours rolling average as well as the 15minutes one already present\n",
    "\n",
    "To normalise, the 1H rolling average is used, this is picked as it smooths out the data but still retain some of the detail regarding the local trend."
   ]
  },
  {
   "cell_type": "code",
   "execution_count": 25,
   "metadata": {},
   "outputs": [],
   "source": [
    "df_prepare = add_rolling_averges(df_15min, [1,2,4], '15min').dropna(axis=0).copy(deep=True)\n",
    "df_prepare['y_avg'] = df_prepare['avg'].shift(-1)\n",
    "df_prepare['y_low'] = 100 * ((df_prepare['low'].shift(-1) - df_prepare['y_avg'])/df_prepare['y_avg'])\n",
    "df_prepare['y_high'] = 100 * ((df_prepare['high'].shift(-1) - df_prepare['y_avg'])/df_prepare['y_avg'])\n",
    "df_prepare['y_avg'] = 100 * ((df_prepare['avg'].shift(-1) - df_prepare['avg'])/df_prepare['avg'])\n",
    "df_prepare = df_prepare[df_prepare['open_time_count'] == 15]"
   ]
  },
  {
   "cell_type": "markdown",
   "metadata": {},
   "source": [
    "\n"
   ]
  },
  {
   "cell_type": "markdown",
   "metadata": {},
   "source": [
    "##### Data Normalisation"
   ]
  },
  {
   "cell_type": "code",
   "execution_count": 26,
   "metadata": {},
   "outputs": [],
   "source": [
    "base = 'ra_1H'\n",
    "columns_to_norm = [d for d in ['open','high','low','close','avg','ra_1H','ra_2H','ra_4H'] if d != base]\n",
    "y_columns = ['y_avg','y_low','y_high']"
   ]
  },
  {
   "cell_type": "code",
   "execution_count": 27,
   "metadata": {},
   "outputs": [],
   "source": [
    "df_normalised = normalising_data(df_prepare, columns=columns_to_norm, base=base)"
   ]
  },
  {
   "cell_type": "code",
   "execution_count": 28,
   "metadata": {},
   "outputs": [],
   "source": [
    "## preparing dataframe for training\n",
    "df_input = df_normalised[columns_to_norm + y_columns].copy(deep=True)"
   ]
  },
  {
   "cell_type": "code",
   "execution_count": 29,
   "metadata": {},
   "outputs": [],
   "source": [
    "df_input = df_input[:-1]"
   ]
  },
  {
   "cell_type": "code",
   "execution_count": 30,
   "metadata": {},
   "outputs": [],
   "source": [
    "df_input_set_aside = df_input[-17000:].copy(deep=True)"
   ]
  },
  {
   "cell_type": "code",
   "execution_count": 31,
   "metadata": {},
   "outputs": [],
   "source": [
    "df_input_traintest = df_input[:-17000].copy(deep=True)"
   ]
  },
  {
   "cell_type": "code",
   "execution_count": 32,
   "metadata": {},
   "outputs": [],
   "source": [
    "df_input_traintest = shuffle(df_input_traintest)"
   ]
  },
  {
   "cell_type": "markdown",
   "metadata": {},
   "source": [
    "\n",
    "\n"
   ]
  },
  {
   "cell_type": "markdown",
   "metadata": {},
   "source": [
    "##### Model Training"
   ]
  },
  {
   "cell_type": "code",
   "execution_count": 47,
   "metadata": {},
   "outputs": [],
   "source": [
    "X_train, X_test, y_train, y_test = train_test_split(df_input_traintest[columns_to_norm].values, \n",
    "                                                    df_input_traintest[['y_avg','y_low','y_high']].values ,\n",
    "                                                    train_size=0.70,\n",
    "                                                    random_state=42)"
   ]
  },
  {
   "cell_type": "code",
   "execution_count": 48,
   "metadata": {},
   "outputs": [],
   "source": [
    "y_train_avg = np.copy(y_train[:,0])\n",
    "y_train_low = np.copy(y_train[:,1])\n",
    "y_train_high = np.copy(y_train[:,2])\n",
    "\n",
    "y_test_avg = np.copy(y_test[:,0])\n",
    "y_test_low = np.copy(y_test[:,1])\n",
    "y_test_high = np.copy(y_test[:,2])"
   ]
  },
  {
   "cell_type": "code",
   "execution_count": 49,
   "metadata": {},
   "outputs": [],
   "source": [
    "# https://xgboost.readthedocs.io/en/latest/python/python_api.html"
   ]
  },
  {
   "cell_type": "code",
   "execution_count": 50,
   "metadata": {},
   "outputs": [],
   "source": [
    "param_grid_xgboost = {\n",
    "    'multi_clf__max_depth': [10, 50],\n",
    "    'multi_clf__learning_rate': [0.01, 0.1, 0.5],\n",
    "    'multi_clf__n_estimators' : [20, 100, 300],\n",
    "    'multi_clf__gamma' : [0, 100, 1000],\n",
    "    'multi_clf__colsample_bytree' : [0.2, 0.5, 1],\n",
    "    'multi_clf__reg_alpha' : [1e-5, 1, 100]\n",
    "}"
   ]
  },
  {
   "cell_type": "code",
   "execution_count": 51,
   "metadata": {},
   "outputs": [],
   "source": [
    "pipeline_xgb_avg_rel = Pipeline([ ('multi_clf', XGBRegressor(nthread = -1, subsample=0.75)) ])\n",
    "pipeline_xgb_low = Pipeline([ ('multi_clf', XGBRegressor(nthread = -1, subsample=0.75)) ])\n",
    "pipeline_xgb_high = Pipeline([ ('multi_clf', XGBRegressor(nthread = -1, subsample=0.75)) ])"
   ]
  },
  {
   "cell_type": "code",
   "execution_count": null,
   "metadata": {},
   "outputs": [],
   "source": []
  },
  {
   "cell_type": "code",
   "execution_count": null,
   "metadata": {},
   "outputs": [],
   "source": []
  },
  {
   "cell_type": "code",
   "execution_count": 249,
   "metadata": {},
   "outputs": [],
   "source": [
    "regres_xgb_avg_rel = XGBRegressor(nthread = -1, \n",
    "                                 subsample= 0.75,\n",
    "                                 colsample_bytree= 1,\n",
    "                                 gamma= 0,\n",
    "                                 learning_rate= 0.01,\n",
    "                                 max_depth= 10,\n",
    "                                 n_estimators= 300,\n",
    "                                 reg_alpha= 1e-05,\n",
    "                                 eval_set=[(X_train, y_train), (X_test, y_test)])\n",
    "regres_xgb_low = XGBRegressor(nthread = -1, \n",
    "                                 subsample= 0.75,\n",
    "                                 colsample_bytree= 1,\n",
    "                                 gamma= 0,\n",
    "                                 learning_rate= 0.01,\n",
    "                                 max_depth= 10,\n",
    "                                 n_estimators= 300,\n",
    "                                 reg_alpha= 1e-05,\n",
    "                                 eval_set=[(X_train, y_train), (X_test, y_test)])\n",
    "regres_xgb_high = XGBRegressor(nthread = -1, \n",
    "                                 subsample= 0.75,\n",
    "                                 colsample_bytree= 1,\n",
    "                                 gamma= 0,\n",
    "                                 learning_rate= 0.01,\n",
    "                                 max_depth= 10,\n",
    "                                 n_estimators= 300,\n",
    "                                 reg_alpha= 1e-05,\n",
    "                                 eval_set=[(X_train, y_train), (X_test, y_test)])"
   ]
  },
  {
   "cell_type": "code",
   "execution_count": null,
   "metadata": {},
   "outputs": [],
   "source": []
  },
  {
   "cell_type": "code",
   "execution_count": 53,
   "metadata": {},
   "outputs": [
    {
     "data": {
      "text/plain": [
       "GridSearchCV(estimator=Pipeline(steps=[('multi_clf',\n",
       "                                        XGBRegressor(base_score=None,\n",
       "                                                     booster=None,\n",
       "                                                     colsample_bylevel=None,\n",
       "                                                     colsample_bynode=None,\n",
       "                                                     colsample_bytree=None,\n",
       "                                                     gamma=None, gpu_id=None,\n",
       "                                                     importance_type='gain',\n",
       "                                                     interaction_constraints=None,\n",
       "                                                     learning_rate=None,\n",
       "                                                     max_delta_step=None,\n",
       "                                                     max_depth=None,\n",
       "                                                     min_child_weight=None,\n",
       "                                                     missing=nan,\n",
       "                                                     monotone_constraints=None,...\n",
       "                                                     reg_lambda=None,\n",
       "                                                     scale_pos_weight=None,\n",
       "                                                     subsample=0.75,\n",
       "                                                     tree_method=None,\n",
       "                                                     validate_parameters=None,\n",
       "                                                     verbosity=None))]),\n",
       "             n_jobs=-1,\n",
       "             param_grid={'multi_clf__colsample_bytree': [0.2, 0.5, 1],\n",
       "                         'multi_clf__gamma': [0, 100, 1000],\n",
       "                         'multi_clf__learning_rate': [0.01, 0.1, 0.5],\n",
       "                         'multi_clf__max_depth': [10, 50],\n",
       "                         'multi_clf__n_estimators': [20, 100, 300],\n",
       "                         'multi_clf__reg_alpha': [1e-05, 1, 100]})"
      ]
     },
     "execution_count": 53,
     "metadata": {},
     "output_type": "execute_result"
    }
   ],
   "source": [
    "\"\"\"Uncomment for GridSearchCV --- very long, 15 hours in total to run! \"\"\"\n",
    "# search_xgb_avg = GridSearchCV(pipeline_xgb_avg_rel, param_grid_xgboost, n_jobs=-1)\n",
    "# search_xgb_avg.fit(X_train, y_train_avg)\n",
    "\n",
    "# search_xgb_low = GridSearchCV(pipeline_xgb_low, param_grid_xgboost, n_jobs=-1)\n",
    "# search_xgb_low.fit(X_train, y_train_low)\n",
    "\n",
    "# search_xgb_high = GridSearchCV(pipeline_xgb_high, param_grid_xgboost, n_jobs=-1)\n",
    "# search_xgb_high.fit(X_train, y_train_high)"
   ]
  },
  {
   "cell_type": "code",
   "execution_count": 262,
   "metadata": {},
   "outputs": [],
   "source": [
    "# final_param_grid_xgboost = {\n",
    "#     'multi_clf__max_depth': [10],\n",
    "#     'multi_clf__learning_rate': [0.01],\n",
    "#     'multi_clf__n_estimators' : [300],\n",
    "#     'multi_clf__gamma' : [0],\n",
    "#     'multi_clf__colsample_bytree' : [1],\n",
    "#     'multi_clf__reg_alpha' : [1e-5]\n",
    "# }"
   ]
  },
  {
   "cell_type": "code",
   "execution_count": null,
   "metadata": {},
   "outputs": [],
   "source": []
  },
  {
   "cell_type": "code",
   "execution_count": 67,
   "metadata": {},
   "outputs": [],
   "source": [
    "xgb_y_pred_avg_decision = search_xgb_avg.predict(X_test)"
   ]
  },
  {
   "cell_type": "code",
   "execution_count": 250,
   "metadata": {
    "collapsed": true,
    "jupyter": {
     "outputs_hidden": true
    }
   },
   "outputs": [
    {
     "name": "stdout",
     "output_type": "stream",
     "text": [
      "[23:46:02] WARNING: /Users/travis/build/dmlc/xgboost/src/learner.cc:541: \n",
      "Parameters: { eval_set } might not be used.\n",
      "\n",
      "  This may not be accurate due to some parameters are only used in language bindings but\n",
      "  passed down to XGBoost core.  Or some parameters are not used but slip through this\n",
      "  verification. Please open an issue if you find above cases.\n",
      "\n",
      "\n",
      "[23:46:17] WARNING: /Users/travis/build/dmlc/xgboost/src/learner.cc:541: \n",
      "Parameters: { eval_set } might not be used.\n",
      "\n",
      "  This may not be accurate due to some parameters are only used in language bindings but\n",
      "  passed down to XGBoost core.  Or some parameters are not used but slip through this\n",
      "  verification. Please open an issue if you find above cases.\n",
      "\n",
      "\n",
      "[23:46:33] WARNING: /Users/travis/build/dmlc/xgboost/src/learner.cc:541: \n",
      "Parameters: { eval_set } might not be used.\n",
      "\n",
      "  This may not be accurate due to some parameters are only used in language bindings but\n",
      "  passed down to XGBoost core.  Or some parameters are not used but slip through this\n",
      "  verification. Please open an issue if you find above cases.\n",
      "\n",
      "\n"
     ]
    },
    {
     "data": {
      "text/plain": [
       "XGBRegressor(base_score=0.5, booster='gbtree', colsample_bylevel=1,\n",
       "             colsample_bynode=1, colsample_bytree=1,\n",
       "             eval_set=[(array([[ 0.0639704 ,  0.2438406 ,  0.03326461, ...,  0.1430343 ,\n",
       "        -0.13026951, -0.14193647],\n",
       "       [-1.29663218, -0.99403766, -3.13896032, ..., -2.21714921,\n",
       "         0.28106868,  0.02271783],\n",
       "       [-0.14581285, -0.02281951, -0.31683673, ..., -0.18404853,\n",
       "         0.09910945,  0.13910838],\n",
       "       ...,\n",
       "       [-...\n",
       "             gamma=0, gpu_id=-1, importance_type='gain',\n",
       "             interaction_constraints='', learning_rate=0.01, max_delta_step=0,\n",
       "             max_depth=10, min_child_weight=1, missing=nan,\n",
       "             monotone_constraints='()', n_estimators=300, n_jobs=8, nthread=-1,\n",
       "             num_parallel_tree=1, random_state=0, reg_alpha=1e-05, reg_lambda=1,\n",
       "             scale_pos_weight=1, subsample=0.75, tree_method='exact',\n",
       "             validate_parameters=1, verbosity=None)"
      ]
     },
     "execution_count": 250,
     "metadata": {},
     "output_type": "execute_result"
    }
   ],
   "source": [
    "regres_xgb_avg_rel.fit(X_train, y_train_avg)\n",
    "regres_xgb_low.fit(X_train, y_train_low)\n",
    "regres_xgb_high.fit(X_train, y_train_high)"
   ]
  },
  {
   "cell_type": "code",
   "execution_count": null,
   "metadata": {},
   "outputs": [],
   "source": []
  },
  {
   "cell_type": "markdown",
   "metadata": {},
   "source": [
    "### valuation set"
   ]
  },
  {
   "cell_type": "code",
   "execution_count": 246,
   "metadata": {},
   "outputs": [],
   "source": [
    "valuation_set = np.copy(df_input_set_aside[['open','high','low','close','avg','ra_2H','ra_4H']].values)"
   ]
  },
  {
   "cell_type": "code",
   "execution_count": 251,
   "metadata": {},
   "outputs": [],
   "source": [
    "unseen_avg = np.copy(df_input_set_aside[['y_avg']].values)\n",
    "unseen_low = np.copy(df_input_set_aside[['y_low']].values)\n",
    "unseen_high = np.copy(df_input_set_aside[['y_high']].values)"
   ]
  },
  {
   "cell_type": "code",
   "execution_count": null,
   "metadata": {},
   "outputs": [],
   "source": []
  },
  {
   "cell_type": "code",
   "execution_count": 292,
   "metadata": {},
   "outputs": [],
   "source": [
    "def dumb_prediction():\n",
    "    dumb_low = round(r2_score(df_input_set_aside['low'].values[1:], df_input_set_aside['low'].shift(1).values[1:]), 4)\n",
    "    dumb_high = round(r2_score(df_input_set_aside['high'].values[1:], df_input_set_aside['high'].shift(1).values[1:]), 4)\n",
    "    \n",
    "    model_low = round( r2_score(unseen_low, regres_xgb_low.predict(valuation_set)), 4)\n",
    "    model_high = round(r2_score(unseen_high, regres_xgb_high.predict(valuation_set)), 4)\n",
    "    \n",
    "    return \"\"\"r2_score for\n",
    "    dumb_low: {dumb_low}   vs model_low: {model_low}\n",
    "    dumb_high: {dumb_high}  vs  model_high: {model_high}\"\"\".format(dumb_low=dumb_low, dumb_high=dumb_high, model_low=model_low, model_high=model_high)"
   ]
  },
  {
   "cell_type": "code",
   "execution_count": 293,
   "metadata": {},
   "outputs": [
    {
     "name": "stdout",
     "output_type": "stream",
     "text": [
      "r2_score for\n",
      "    dumb_low: 0.2063   vs model_low: 0.3376\n",
      "    dumb_high: 0.3072  vs  model_high: 0.3094\n"
     ]
    }
   ],
   "source": [
    "print(dumb_prediction())"
   ]
  },
  {
   "cell_type": "markdown",
   "metadata": {},
   "source": [
    "Good improvement for low, but small improvement for high"
   ]
  },
  {
   "cell_type": "code",
   "execution_count": null,
   "metadata": {},
   "outputs": [],
   "source": []
  },
  {
   "cell_type": "code",
   "execution_count": null,
   "metadata": {},
   "outputs": [],
   "source": []
  },
  {
   "cell_type": "code",
   "execution_count": null,
   "metadata": {},
   "outputs": [],
   "source": []
  },
  {
   "cell_type": "code",
   "execution_count": null,
   "metadata": {},
   "outputs": [],
   "source": []
  }
 ],
 "metadata": {
  "kernelspec": {
   "display_name": "Python 3",
   "language": "python",
   "name": "python3"
  },
  "language_info": {
   "codemirror_mode": {
    "name": "ipython",
    "version": 3
   },
   "file_extension": ".py",
   "mimetype": "text/x-python",
   "name": "python",
   "nbconvert_exporter": "python",
   "pygments_lexer": "ipython3",
   "version": "3.7.9"
  }
 },
 "nbformat": 4,
 "nbformat_minor": 4
}
